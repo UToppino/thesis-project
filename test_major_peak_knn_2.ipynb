{
 "cells": [
  {
   "cell_type": "markdown",
   "metadata": {},
   "source": [
    "# Peak method applied to NN\n",
    "The script takes the ECG datasets and for every sample extracts relevant peaks which are then used to train the Neural Network"
   ]
  },
  {
   "cell_type": "code",
   "execution_count": 1,
   "metadata": {},
   "outputs": [],
   "source": [
    "# Importing packages\n",
    "import datetime\n",
    "import numpy as np\n",
    "import pandas as pd\n",
    "import seaborn as sns\n",
    "import matplotlib.pyplot as plt\n",
    "import keras\n",
    "from sklearn.model_selection import train_test_split\n",
    "from sklearn.metrics import f1_score, confusion_matrix, classification_report\n",
    "from sklearn.neighbors import KNeighborsRegressor\n",
    "import keras\n",
    "import keras_tuner as kt\n",
    "from keras.utils import to_categorical\n",
    "from keras.layers import Dense, Convolution1D, Convolution2D, MaxPool1D, Flatten, Dropout, AveragePooling1D\n",
    "from keras.layers import Input\n",
    "from keras.models import Model, Sequential\n",
    "from keras.layers import BatchNormalization\n",
    "from keras.callbacks import EarlyStopping, ModelCheckpoint\n",
    "from sklearn.utils import class_weight\n",
    "from sklearn.utils import resample\n",
    "import warnings\n",
    "import os\n",
    "warnings.filterwarnings('ignore')"
   ]
  },
  {
   "cell_type": "code",
   "execution_count": 2,
   "metadata": {},
   "outputs": [],
   "source": [
    "# Load data from file and generate training, test and validation sets\n",
    "\n",
    "DATA_SPLIT = 0.1\n",
    "SEED = 12345\n",
    "\n",
    "# Read files\n",
    "train_df=pd.read_csv('src/mitbih_train.csv',header=None)\n",
    "test_df=pd.read_csv('src/mitbih_test.csv',header=None)\n",
    "\n",
    "train_df_x = train_df.iloc[:,:186].values\n",
    "train_df_y = train_df[187]\n",
    "x_train, x_test, target_train, target_test = train_test_split(train_df_x, train_df_y, test_size=DATA_SPLIT, random_state=SEED)\n",
    "\n",
    "y_train=to_categorical(target_train)\n",
    "y_test=to_categorical(target_test)\n",
    "\n",
    "num_train = len(y_train)\n",
    "num_test = len(y_test)\n"
   ]
  },
  {
   "cell_type": "code",
   "execution_count": 3,
   "metadata": {},
   "outputs": [
    {
     "name": "stdout",
     "output_type": "stream",
     "text": [
      "     K  Test Score  Train Score\n",
      "0    3    0.784120     0.903849\n",
      "1    4    0.788346     0.883752\n",
      "2    5    0.785270     0.869251\n",
      "3    6    0.782037     0.857141\n",
      "4    7    0.781152     0.847405\n",
      "5    8    0.775007     0.839027\n",
      "6    9    0.771242     0.830971\n",
      "7   10    0.765896     0.824527\n",
      "8   11    0.764168     0.817941\n",
      "9   12    0.761722     0.812988\n",
      "10  13    0.758812     0.807945\n",
      "11  14    0.756247     0.803636\n",
      "12  15    0.753874     0.799205\n",
      "13  16    0.751658     0.795307\n",
      "14  17    0.748242     0.791357\n",
      "15  18    0.745489     0.788013\n",
      "16  19    0.743943     0.784569\n"
     ]
    }
   ],
   "source": [
    "# Train KNN network for different number of neighbors\n",
    "\n",
    "knn_r_acc = []\n",
    "for num_neighbors in range(3, 20):\n",
    "\n",
    "    # Define KNN\n",
    "    knn_model = KNeighborsRegressor(n_neighbors=num_neighbors)\n",
    "\n",
    "    # Train KNN model\n",
    "    knn_model.fit(x_train, y_train)\n",
    "\n",
    "    # Extract trained model scores\n",
    "    train_score = knn_model.score(x_train,y_train)\n",
    "    test_score = knn_model.score(x_test,y_test)\n",
    "    knn_r_acc.append((num_neighbors, test_score ,train_score))\n",
    "\n",
    "# Print results\n",
    "df = pd.DataFrame(knn_r_acc, columns=['K','Test Score','Train Score'])\n",
    "print(df)\n"
   ]
  },
  {
   "cell_type": "code",
   "execution_count": 4,
   "metadata": {},
   "outputs": [
    {
     "name": "stdout",
     "output_type": "stream",
     "text": [
      "Confusion matrix\n",
      "       0      1      2      3      4\n",
      "0  0.980  0.143  0.035  0.000  0.009\n",
      "1  0.009  0.850  0.005  0.000  0.000\n",
      "2  0.006  0.007  0.942  0.122  0.002\n",
      "3  0.002  0.000  0.007  0.878  0.000\n",
      "4  0.003  0.000  0.011  0.000  0.989\n",
      "\n",
      "Average accuracy\n",
      "0.9277891522640342\n"
     ]
    }
   ],
   "source": [
    "# Consider only best model\n",
    "BEST_KNN = 3\n",
    "\n",
    "knn_model_best = KNeighborsRegressor(n_neighbors=BEST_KNN)\n",
    "knn_model_best.fit(x_train, y_train)\n",
    "\n",
    "y_prediction = knn_model_best.predict(x_test)\n",
    "y_prediction = np.argmax(y_prediction, axis = 1)\n",
    "y_test_pred = np.argmax(y_test, axis=1)\n",
    "\n",
    "# Create confusion matrix and normalize it over predicted (columns)\n",
    "result = confusion_matrix(y_test_pred, y_prediction , normalize='pred')\n",
    "#result = confusion_matrix(y_test_pred, y_prediction , normalize='true')\n",
    "#result = confusion_matrix(y_test_pred, y_prediction , normalize='all')\n",
    "#result = confusion_matrix(y_test_pred, y_prediction)\n",
    "classes = [0,1,2,3,4]\n",
    "result_norm = np.around(result, 3)\n",
    "#result_norm = result\n",
    "mat_result = pd.DataFrame(result_norm,\n",
    "                     index = classes, \n",
    "                     columns = classes)\n",
    "\n",
    "total_pred = np.trace(result) / 5\n",
    "\n",
    "print('Confusion matrix')\n",
    "print(mat_result)\n",
    "print()\n",
    "print('Average accuracy')\n",
    "print(total_pred)"
   ]
  },
  {
   "cell_type": "code",
   "execution_count": 5,
   "metadata": {},
   "outputs": [
    {
     "data": {
      "image/png": "[encoded data removed]",
      "text/plain": [
       "<Figure size 400x400 with 2 Axes>"
      ]
     },
     "metadata": {},
     "output_type": "display_data"
    }
   ],
   "source": [
    "figure = plt.figure(figsize=(4, 4))\n",
    "sns.heatmap(mat_result, annot=True,cmap=plt.cm.Blues)\n",
    "plt.title(\"KNN\")\n",
    "plt.ylabel('True label')\n",
    "plt.xlabel('Predicted label')\n",
    "plt.tight_layout()\n",
    "plt.show()"
   ]
  }
 ],
 "metadata": {
  "kernelspec": {
   "display_name": ".venv",
   "language": "python",
   "name": "python3"
  },
  "language_info": {
   "codemirror_mode": {
    "name": "ipython",
    "version": 3
   },
   "file_extension": ".py",
   "mimetype": "text/x-python",
   "name": "python",
   "nbconvert_exporter": "python",
   "pygments_lexer": "ipython3",
   "version": "3.11.3"
  }
 },
 "nbformat": 4,
 "nbformat_minor": 2
}
