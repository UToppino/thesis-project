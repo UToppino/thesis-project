{
 "cells": [
  {
   "cell_type": "markdown",
   "metadata": {},
   "source": [
    "# Simple Model Training\n",
    "This script is used to generate a simple CNN tensorflow model, train it and print the results"
   ]
  },
  {
   "cell_type": "code",
   "execution_count": 22,
   "metadata": {},
   "outputs": [],
   "source": [
    "# Importing packages\n",
    "import datetime\n",
    "import numpy as np\n",
    "import pandas as pd\n",
    "import seaborn as sns\n",
    "import matplotlib.pyplot as plt\n",
    "import keras\n",
    "from sklearn.metrics import classification_report\n",
    "from sklearn.model_selection import train_test_split\n",
    "from sklearn.metrics import f1_score\n",
    "from sklearn.metrics import confusion_matrix\n",
    "import keras\n",
    "from keras.utils import to_categorical\n",
    "from keras.layers import Dense, Convolution1D, Convolution2D, MaxPool1D, Flatten, Dropout, AveragePooling1D\n",
    "from keras.layers import Input\n",
    "from keras.models import Model, Sequential\n",
    "from keras.layers import BatchNormalization\n",
    "from keras.callbacks import EarlyStopping, ModelCheckpoint\n",
    "from sklearn.utils import class_weight\n",
    "from sklearn.utils import resample\n",
    "import warnings\n",
    "import os\n",
    "warnings.filterwarnings('ignore')"
   ]
  },
  {
   "cell_type": "markdown",
   "metadata": {},
   "source": [
    "The data is loaded from two ```.csv``` files and is already divided into labeled samples. Each row contains one ECG sample: columns 0 to 186 are the ECG reading and 187 is the sample classification:\n",
    "    \n",
    "    ['N': 0, 'S': 1, 'V': 2, 'F': 3, 'Q': 4]"
   ]
  },
  {
   "cell_type": "code",
   "execution_count": 23,
   "metadata": {},
   "outputs": [
    {
     "data": {
      "text/html": [
       "<div>\n",
       "<style scoped>\n",
       "    .dataframe tbody tr th:only-of-type {\n",
       "        vertical-align: middle;\n",
       "    }\n",
       "\n",
       "    .dataframe tbody tr th {\n",
       "        vertical-align: top;\n",
       "    }\n",
       "\n",
       "    .dataframe thead th {\n",
       "        text-align: right;\n",
       "    }\n",
       "</style>\n",
       "<table border=\"1\" class=\"dataframe\">\n",
       "  <thead>\n",
       "    <tr style=\"text-align: right;\">\n",
       "      <th></th>\n",
       "      <th>0</th>\n",
       "      <th>1</th>\n",
       "      <th>2</th>\n",
       "      <th>3</th>\n",
       "      <th>4</th>\n",
       "      <th>5</th>\n",
       "      <th>6</th>\n",
       "      <th>7</th>\n",
       "      <th>8</th>\n",
       "      <th>9</th>\n",
       "      <th>...</th>\n",
       "      <th>178</th>\n",
       "      <th>179</th>\n",
       "      <th>180</th>\n",
       "      <th>181</th>\n",
       "      <th>182</th>\n",
       "      <th>183</th>\n",
       "      <th>184</th>\n",
       "      <th>185</th>\n",
       "      <th>186</th>\n",
       "      <th>187</th>\n",
       "    </tr>\n",
       "  </thead>\n",
       "  <tbody>\n",
       "    <tr>\n",
       "      <th>87549</th>\n",
       "      <td>0.807018</td>\n",
       "      <td>0.494737</td>\n",
       "      <td>0.536842</td>\n",
       "      <td>0.529825</td>\n",
       "      <td>0.491228</td>\n",
       "      <td>0.484211</td>\n",
       "      <td>0.456140</td>\n",
       "      <td>0.396491</td>\n",
       "      <td>0.284211</td>\n",
       "      <td>0.136842</td>\n",
       "      <td>...</td>\n",
       "      <td>0.0</td>\n",
       "      <td>0.0</td>\n",
       "      <td>0.0</td>\n",
       "      <td>0.0</td>\n",
       "      <td>0.0</td>\n",
       "      <td>0.0</td>\n",
       "      <td>0.0</td>\n",
       "      <td>0.0</td>\n",
       "      <td>0.0</td>\n",
       "      <td>4.0</td>\n",
       "    </tr>\n",
       "    <tr>\n",
       "      <th>87550</th>\n",
       "      <td>0.718333</td>\n",
       "      <td>0.605000</td>\n",
       "      <td>0.486667</td>\n",
       "      <td>0.361667</td>\n",
       "      <td>0.231667</td>\n",
       "      <td>0.120000</td>\n",
       "      <td>0.051667</td>\n",
       "      <td>0.001667</td>\n",
       "      <td>0.000000</td>\n",
       "      <td>0.013333</td>\n",
       "      <td>...</td>\n",
       "      <td>0.0</td>\n",
       "      <td>0.0</td>\n",
       "      <td>0.0</td>\n",
       "      <td>0.0</td>\n",
       "      <td>0.0</td>\n",
       "      <td>0.0</td>\n",
       "      <td>0.0</td>\n",
       "      <td>0.0</td>\n",
       "      <td>0.0</td>\n",
       "      <td>4.0</td>\n",
       "    </tr>\n",
       "    <tr>\n",
       "      <th>87551</th>\n",
       "      <td>0.906122</td>\n",
       "      <td>0.624490</td>\n",
       "      <td>0.595918</td>\n",
       "      <td>0.575510</td>\n",
       "      <td>0.530612</td>\n",
       "      <td>0.481633</td>\n",
       "      <td>0.444898</td>\n",
       "      <td>0.387755</td>\n",
       "      <td>0.322449</td>\n",
       "      <td>0.191837</td>\n",
       "      <td>...</td>\n",
       "      <td>0.0</td>\n",
       "      <td>0.0</td>\n",
       "      <td>0.0</td>\n",
       "      <td>0.0</td>\n",
       "      <td>0.0</td>\n",
       "      <td>0.0</td>\n",
       "      <td>0.0</td>\n",
       "      <td>0.0</td>\n",
       "      <td>0.0</td>\n",
       "      <td>4.0</td>\n",
       "    </tr>\n",
       "    <tr>\n",
       "      <th>87552</th>\n",
       "      <td>0.858228</td>\n",
       "      <td>0.645570</td>\n",
       "      <td>0.845570</td>\n",
       "      <td>0.248101</td>\n",
       "      <td>0.167089</td>\n",
       "      <td>0.131646</td>\n",
       "      <td>0.121519</td>\n",
       "      <td>0.121519</td>\n",
       "      <td>0.118987</td>\n",
       "      <td>0.103797</td>\n",
       "      <td>...</td>\n",
       "      <td>0.0</td>\n",
       "      <td>0.0</td>\n",
       "      <td>0.0</td>\n",
       "      <td>0.0</td>\n",
       "      <td>0.0</td>\n",
       "      <td>0.0</td>\n",
       "      <td>0.0</td>\n",
       "      <td>0.0</td>\n",
       "      <td>0.0</td>\n",
       "      <td>4.0</td>\n",
       "    </tr>\n",
       "    <tr>\n",
       "      <th>87553</th>\n",
       "      <td>0.901506</td>\n",
       "      <td>0.845886</td>\n",
       "      <td>0.800695</td>\n",
       "      <td>0.748552</td>\n",
       "      <td>0.687138</td>\n",
       "      <td>0.599073</td>\n",
       "      <td>0.512167</td>\n",
       "      <td>0.427578</td>\n",
       "      <td>0.395133</td>\n",
       "      <td>0.402086</td>\n",
       "      <td>...</td>\n",
       "      <td>0.0</td>\n",
       "      <td>0.0</td>\n",
       "      <td>0.0</td>\n",
       "      <td>0.0</td>\n",
       "      <td>0.0</td>\n",
       "      <td>0.0</td>\n",
       "      <td>0.0</td>\n",
       "      <td>0.0</td>\n",
       "      <td>0.0</td>\n",
       "      <td>4.0</td>\n",
       "    </tr>\n",
       "  </tbody>\n",
       "</table>\n",
       "<p>5 rows × 188 columns</p>\n",
       "</div>"
      ],
      "text/plain": [
       "            0         1         2         3         4         5         6    \\\n",
       "87549  0.807018  0.494737  0.536842  0.529825  0.491228  0.484211  0.456140   \n",
       "87550  0.718333  0.605000  0.486667  0.361667  0.231667  0.120000  0.051667   \n",
       "87551  0.906122  0.624490  0.595918  0.575510  0.530612  0.481633  0.444898   \n",
       "87552  0.858228  0.645570  0.845570  0.248101  0.167089  0.131646  0.121519   \n",
       "87553  0.901506  0.845886  0.800695  0.748552  0.687138  0.599073  0.512167   \n",
       "\n",
       "            7         8         9    ...  178  179  180  181  182  183  184  \\\n",
       "87549  0.396491  0.284211  0.136842  ...  0.0  0.0  0.0  0.0  0.0  0.0  0.0   \n",
       "87550  0.001667  0.000000  0.013333  ...  0.0  0.0  0.0  0.0  0.0  0.0  0.0   \n",
       "87551  0.387755  0.322449  0.191837  ...  0.0  0.0  0.0  0.0  0.0  0.0  0.0   \n",
       "87552  0.121519  0.118987  0.103797  ...  0.0  0.0  0.0  0.0  0.0  0.0  0.0   \n",
       "87553  0.427578  0.395133  0.402086  ...  0.0  0.0  0.0  0.0  0.0  0.0  0.0   \n",
       "\n",
       "       185  186  187  \n",
       "87549  0.0  0.0  4.0  \n",
       "87550  0.0  0.0  4.0  \n",
       "87551  0.0  0.0  4.0  \n",
       "87552  0.0  0.0  4.0  \n",
       "87553  0.0  0.0  4.0  \n",
       "\n",
       "[5 rows x 188 columns]"
      ]
     },
     "execution_count": 23,
     "metadata": {},
     "output_type": "execute_result"
    }
   ],
   "source": [
    "# Load data from file\n",
    "train_df=pd.read_csv('src/mitbih_train.csv',header=None)\n",
    "test_df=pd.read_csv('src/mitbih_test.csv',header=None)\n",
    "\n",
    "train_df.head()\n",
    "train_df.tail()"
   ]
  },
  {
   "cell_type": "markdown",
   "metadata": {},
   "source": [
    "The data is divided into training and testing datasets and from each is extracted the vector containing the sample labels"
   ]
  },
  {
   "cell_type": "code",
   "execution_count": 24,
   "metadata": {},
   "outputs": [],
   "source": [
    "target_train=train_df[187]\n",
    "target_test=test_df[187]\n",
    "y_train=to_categorical(target_train)\n",
    "y_test=to_categorical(target_test)\n",
    "X_train=train_df.iloc[:,:186].values\n",
    "X_test=test_df.iloc[:,:186].values\n",
    "X_train = X_train.reshape(len(X_train), X_train.shape[1],1)\n",
    "X_test = X_test.reshape(len(X_test), X_test.shape[1],1)"
   ]
  },
  {
   "cell_type": "markdown",
   "metadata": {},
   "source": [
    "The CNN model is defined"
   ]
  },
  {
   "cell_type": "code",
   "execution_count": 25,
   "metadata": {},
   "outputs": [
    {
     "data": {
      "text/html": [
       "<pre style=\"white-space:pre;overflow-x:auto;line-height:normal;font-family:Menlo,'DejaVu Sans Mono',consolas,'Courier New',monospace\"><span style=\"font-weight: bold\">Model: \"sequential_3\"</span>\n",
       "</pre>\n"
      ],
      "text/plain": [
       "\u001b[1mModel: \"sequential_3\"\u001b[0m\n"
      ]
     },
     "metadata": {},
     "output_type": "display_data"
    },
    {
     "data": {
      "text/html": [
       "<pre style=\"white-space:pre;overflow-x:auto;line-height:normal;font-family:Menlo,'DejaVu Sans Mono',consolas,'Courier New',monospace\">┏━━━━━━━━━━━━━━━━━━━━━━━━━━━━━━━━━┳━━━━━━━━━━━━━━━━━━━━━━━━┳━━━━━━━━━━━━━━━┓\n",
       "┃<span style=\"font-weight: bold\"> Layer (type)                    </span>┃<span style=\"font-weight: bold\"> Output Shape           </span>┃<span style=\"font-weight: bold\">       Param # </span>┃\n",
       "┡━━━━━━━━━━━━━━━━━━━━━━━━━━━━━━━━━╇━━━━━━━━━━━━━━━━━━━━━━━━╇━━━━━━━━━━━━━━━┩\n",
       "│ flatten_3 (<span style=\"color: #0087ff; text-decoration-color: #0087ff\">Flatten</span>)             │ (<span style=\"color: #00d7ff; text-decoration-color: #00d7ff\">None</span>, <span style=\"color: #00af00; text-decoration-color: #00af00\">186</span>)            │             <span style=\"color: #00af00; text-decoration-color: #00af00\">0</span> │\n",
       "├─────────────────────────────────┼────────────────────────┼───────────────┤\n",
       "│ dense_3 (<span style=\"color: #0087ff; text-decoration-color: #0087ff\">Dense</span>)                 │ (<span style=\"color: #00d7ff; text-decoration-color: #00d7ff\">None</span>, <span style=\"color: #00af00; text-decoration-color: #00af00\">100</span>)            │        <span style=\"color: #00af00; text-decoration-color: #00af00\">18,700</span> │\n",
       "├─────────────────────────────────┼────────────────────────┼───────────────┤\n",
       "│ main_output (<span style=\"color: #0087ff; text-decoration-color: #0087ff\">Dense</span>)             │ (<span style=\"color: #00d7ff; text-decoration-color: #00d7ff\">None</span>, <span style=\"color: #00af00; text-decoration-color: #00af00\">5</span>)              │           <span style=\"color: #00af00; text-decoration-color: #00af00\">505</span> │\n",
       "└─────────────────────────────────┴────────────────────────┴───────────────┘\n",
       "</pre>\n"
      ],
      "text/plain": [
       "┏━━━━━━━━━━━━━━━━━━━━━━━━━━━━━━━━━┳━━━━━━━━━━━━━━━━━━━━━━━━┳━━━━━━━━━━━━━━━┓\n",
       "┃\u001b[1m \u001b[0m\u001b[1mLayer (type)                   \u001b[0m\u001b[1m \u001b[0m┃\u001b[1m \u001b[0m\u001b[1mOutput Shape          \u001b[0m\u001b[1m \u001b[0m┃\u001b[1m \u001b[0m\u001b[1m      Param #\u001b[0m\u001b[1m \u001b[0m┃\n",
       "┡━━━━━━━━━━━━━━━━━━━━━━━━━━━━━━━━━╇━━━━━━━━━━━━━━━━━━━━━━━━╇━━━━━━━━━━━━━━━┩\n",
       "│ flatten_3 (\u001b[38;5;33mFlatten\u001b[0m)             │ (\u001b[38;5;45mNone\u001b[0m, \u001b[38;5;34m186\u001b[0m)            │             \u001b[38;5;34m0\u001b[0m │\n",
       "├─────────────────────────────────┼────────────────────────┼───────────────┤\n",
       "│ dense_3 (\u001b[38;5;33mDense\u001b[0m)                 │ (\u001b[38;5;45mNone\u001b[0m, \u001b[38;5;34m100\u001b[0m)            │        \u001b[38;5;34m18,700\u001b[0m │\n",
       "├─────────────────────────────────┼────────────────────────┼───────────────┤\n",
       "│ main_output (\u001b[38;5;33mDense\u001b[0m)             │ (\u001b[38;5;45mNone\u001b[0m, \u001b[38;5;34m5\u001b[0m)              │           \u001b[38;5;34m505\u001b[0m │\n",
       "└─────────────────────────────────┴────────────────────────┴───────────────┘\n"
      ]
     },
     "metadata": {},
     "output_type": "display_data"
    },
    {
     "data": {
      "text/html": [
       "<pre style=\"white-space:pre;overflow-x:auto;line-height:normal;font-family:Menlo,'DejaVu Sans Mono',consolas,'Courier New',monospace\"><span style=\"font-weight: bold\"> Total params: </span><span style=\"color: #00af00; text-decoration-color: #00af00\">19,205</span> (75.02 KB)\n",
       "</pre>\n"
      ],
      "text/plain": [
       "\u001b[1m Total params: \u001b[0m\u001b[38;5;34m19,205\u001b[0m (75.02 KB)\n"
      ]
     },
     "metadata": {},
     "output_type": "display_data"
    },
    {
     "data": {
      "text/html": [
       "<pre style=\"white-space:pre;overflow-x:auto;line-height:normal;font-family:Menlo,'DejaVu Sans Mono',consolas,'Courier New',monospace\"><span style=\"font-weight: bold\"> Trainable params: </span><span style=\"color: #00af00; text-decoration-color: #00af00\">19,205</span> (75.02 KB)\n",
       "</pre>\n"
      ],
      "text/plain": [
       "\u001b[1m Trainable params: \u001b[0m\u001b[38;5;34m19,205\u001b[0m (75.02 KB)\n"
      ]
     },
     "metadata": {},
     "output_type": "display_data"
    },
    {
     "data": {
      "text/html": [
       "<pre style=\"white-space:pre;overflow-x:auto;line-height:normal;font-family:Menlo,'DejaVu Sans Mono',consolas,'Courier New',monospace\"><span style=\"font-weight: bold\"> Non-trainable params: </span><span style=\"color: #00af00; text-decoration-color: #00af00\">0</span> (0.00 B)\n",
       "</pre>\n"
      ],
      "text/plain": [
       "\u001b[1m Non-trainable params: \u001b[0m\u001b[38;5;34m0\u001b[0m (0.00 B)\n"
      ]
     },
     "metadata": {},
     "output_type": "display_data"
    }
   ],
   "source": [
    "im_shape=(X_train.shape[1],1)\n",
    "model = Sequential([\n",
    "    Input(shape=(im_shape), name='inputs_cnn'),\n",
    "    #Convolution1D(1, (3), strides=1, padding=\"same\", activation='relu'),\n",
    "    #Convolution1D(1, (7), strides=3, padding=\"same\", activation='relu'),\n",
    "    #MaxPool1D(2),\n",
    "    #Convolution1D(1, (13), strides=5, activation='relu', padding=\"same\"),\n",
    "    #MaxPool1D(2),\n",
    "    Flatten(),\n",
    "    #Dense(30, activation='relu'),\n",
    "    # Test with all MLP\n",
    "    Dense(100, activation='relu', kernel_initializer=keras.initializers.Zeros(), bias_initializer=keras.initializers.Zeros()),\n",
    "    Dense(5, activation='softmax', name='main_output', kernel_initializer=keras.initializers.Zeros(), bias_initializer=keras.initializers.Zeros())\n",
    "])\n",
    "\n",
    "model.compile(optimizer='adam', loss='categorical_crossentropy',metrics = ['accuracy'])\n",
    "model.summary()"
   ]
  },
  {
   "cell_type": "code",
   "execution_count": 30,
   "metadata": {},
   "outputs": [],
   "source": [
    "# TEST CUSTOM WEIGHTS\n",
    "custom_weights = {0: 1, 1: 23, 2: 3, 3: 41, 4: 10}"
   ]
  },
  {
   "cell_type": "markdown",
   "metadata": {},
   "source": [
    "The model is trained on the dataset and the resulting parameters are saved"
   ]
  },
  {
   "cell_type": "code",
   "execution_count": 27,
   "metadata": {},
   "outputs": [
    {
     "name": "stdout",
     "output_type": "stream",
     "text": [
      "Epoch 1/25\n",
      "\u001b[1m2737/2737\u001b[0m \u001b[32m━━━━━━━━━━━━━━━━━━━━\u001b[0m\u001b[37m\u001b[0m \u001b[1m5s\u001b[0m 2ms/step - accuracy: 0.8305 - loss: 4.0223 - val_accuracy: 0.8276 - val_loss: 1.2851\n",
      "Epoch 2/25\n",
      "\u001b[1m2737/2737\u001b[0m \u001b[32m━━━━━━━━━━━━━━━━━━━━\u001b[0m\u001b[37m\u001b[0m \u001b[1m4s\u001b[0m 1ms/step - accuracy: 0.8267 - loss: 3.9811 - val_accuracy: 0.8276 - val_loss: 1.2723\n",
      "Epoch 3/25\n",
      "\u001b[1m2737/2737\u001b[0m \u001b[32m━━━━━━━━━━━━━━━━━━━━\u001b[0m\u001b[37m\u001b[0m \u001b[1m5s\u001b[0m 2ms/step - accuracy: 0.8277 - loss: 3.9565 - val_accuracy: 0.8276 - val_loss: 1.2742\n",
      "Epoch 4/25\n",
      "\u001b[1m2737/2737\u001b[0m \u001b[32m━━━━━━━━━━━━━━━━━━━━\u001b[0m\u001b[37m\u001b[0m \u001b[1m4s\u001b[0m 2ms/step - accuracy: 0.8270 - loss: 3.9212 - val_accuracy: 0.8276 - val_loss: 1.2863\n",
      "Epoch 5/25\n",
      "\u001b[1m2737/2737\u001b[0m \u001b[32m━━━━━━━━━━━━━━━━━━━━\u001b[0m\u001b[37m\u001b[0m \u001b[1m4s\u001b[0m 2ms/step - accuracy: 0.8273 - loss: 3.9754 - val_accuracy: 0.8276 - val_loss: 1.2737\n",
      "Epoch 6/25\n",
      "\u001b[1m2737/2737\u001b[0m \u001b[32m━━━━━━━━━━━━━━━━━━━━\u001b[0m\u001b[37m\u001b[0m \u001b[1m4s\u001b[0m 1ms/step - accuracy: 0.8286 - loss: 3.9700 - val_accuracy: 0.8276 - val_loss: 1.2736\n",
      "Epoch 7/25\n",
      "\u001b[1m2737/2737\u001b[0m \u001b[32m━━━━━━━━━━━━━━━━━━━━\u001b[0m\u001b[37m\u001b[0m \u001b[1m4s\u001b[0m 1ms/step - accuracy: 0.8287 - loss: 3.9441 - val_accuracy: 0.8276 - val_loss: 1.2810\n",
      "Epoch 8/25\n",
      "\u001b[1m2737/2737\u001b[0m \u001b[32m━━━━━━━━━━━━━━━━━━━━\u001b[0m\u001b[37m\u001b[0m \u001b[1m4s\u001b[0m 1ms/step - accuracy: 0.8267 - loss: 3.9629 - val_accuracy: 0.8276 - val_loss: 1.2683\n",
      "Epoch 9/25\n",
      "\u001b[1m2737/2737\u001b[0m \u001b[32m━━━━━━━━━━━━━━━━━━━━\u001b[0m\u001b[37m\u001b[0m \u001b[1m4s\u001b[0m 1ms/step - accuracy: 0.8300 - loss: 3.9550 - val_accuracy: 0.8276 - val_loss: 1.2899\n",
      "Epoch 10/25\n",
      "\u001b[1m2737/2737\u001b[0m \u001b[32m━━━━━━━━━━━━━━━━━━━━\u001b[0m\u001b[37m\u001b[0m \u001b[1m4s\u001b[0m 1ms/step - accuracy: 0.8287 - loss: 3.9292 - val_accuracy: 0.8276 - val_loss: 1.2836\n",
      "Epoch 11/25\n",
      "\u001b[1m2737/2737\u001b[0m \u001b[32m━━━━━━━━━━━━━━━━━━━━\u001b[0m\u001b[37m\u001b[0m \u001b[1m4s\u001b[0m 1ms/step - accuracy: 0.8298 - loss: 3.9017 - val_accuracy: 0.8276 - val_loss: 1.2974\n",
      "Epoch 12/25\n",
      "\u001b[1m2737/2737\u001b[0m \u001b[32m━━━━━━━━━━━━━━━━━━━━\u001b[0m\u001b[37m\u001b[0m \u001b[1m4s\u001b[0m 1ms/step - accuracy: 0.8301 - loss: 3.9114 - val_accuracy: 0.8276 - val_loss: 1.2806\n",
      "Epoch 13/25\n",
      "\u001b[1m2737/2737\u001b[0m \u001b[32m━━━━━━━━━━━━━━━━━━━━\u001b[0m\u001b[37m\u001b[0m \u001b[1m4s\u001b[0m 1ms/step - accuracy: 0.8282 - loss: 3.9178 - val_accuracy: 0.8276 - val_loss: 1.2945\n",
      "Epoch 14/25\n",
      "\u001b[1m2737/2737\u001b[0m \u001b[32m━━━━━━━━━━━━━━━━━━━━\u001b[0m\u001b[37m\u001b[0m \u001b[1m4s\u001b[0m 1ms/step - accuracy: 0.8278 - loss: 3.9852 - val_accuracy: 0.8276 - val_loss: 1.2774\n",
      "Epoch 15/25\n",
      "\u001b[1m2737/2737\u001b[0m \u001b[32m━━━━━━━━━━━━━━━━━━━━\u001b[0m\u001b[37m\u001b[0m \u001b[1m4s\u001b[0m 1ms/step - accuracy: 0.8281 - loss: 3.9430 - val_accuracy: 0.8276 - val_loss: 1.2888\n",
      "Epoch 16/25\n",
      "\u001b[1m2737/2737\u001b[0m \u001b[32m━━━━━━━━━━━━━━━━━━━━\u001b[0m\u001b[37m\u001b[0m \u001b[1m4s\u001b[0m 1ms/step - accuracy: 0.8280 - loss: 3.9953 - val_accuracy: 0.8276 - val_loss: 1.2760\n",
      "Epoch 17/25\n",
      "\u001b[1m2737/2737\u001b[0m \u001b[32m━━━━━━━━━━━━━━━━━━━━\u001b[0m\u001b[37m\u001b[0m \u001b[1m4s\u001b[0m 1ms/step - accuracy: 0.8268 - loss: 3.9502 - val_accuracy: 0.8276 - val_loss: 1.2837\n",
      "Epoch 18/25\n",
      "\u001b[1m2737/2737\u001b[0m \u001b[32m━━━━━━━━━━━━━━━━━━━━\u001b[0m\u001b[37m\u001b[0m \u001b[1m4s\u001b[0m 1ms/step - accuracy: 0.8297 - loss: 3.9061 - val_accuracy: 0.8276 - val_loss: 1.2883\n",
      "Epoch 19/25\n",
      "\u001b[1m2737/2737\u001b[0m \u001b[32m━━━━━━━━━━━━━━━━━━━━\u001b[0m\u001b[37m\u001b[0m \u001b[1m4s\u001b[0m 1ms/step - accuracy: 0.8285 - loss: 3.9801 - val_accuracy: 0.8276 - val_loss: 1.2772\n",
      "Epoch 20/25\n",
      "\u001b[1m2737/2737\u001b[0m \u001b[32m━━━━━━━━━━━━━━━━━━━━\u001b[0m\u001b[37m\u001b[0m \u001b[1m4s\u001b[0m 1ms/step - accuracy: 0.8283 - loss: 3.8931 - val_accuracy: 0.8276 - val_loss: 1.2889\n",
      "Epoch 21/25\n",
      "\u001b[1m2737/2737\u001b[0m \u001b[32m━━━━━━━━━━━━━━━━━━━━\u001b[0m\u001b[37m\u001b[0m \u001b[1m4s\u001b[0m 1ms/step - accuracy: 0.8269 - loss: 3.8987 - val_accuracy: 0.8276 - val_loss: 1.2937\n",
      "Epoch 22/25\n",
      "\u001b[1m2737/2737\u001b[0m \u001b[32m━━━━━━━━━━━━━━━━━━━━\u001b[0m\u001b[37m\u001b[0m \u001b[1m4s\u001b[0m 1ms/step - accuracy: 0.8269 - loss: 3.9771 - val_accuracy: 0.8276 - val_loss: 1.2833\n",
      "Epoch 23/25\n",
      "\u001b[1m2737/2737\u001b[0m \u001b[32m━━━━━━━━━━━━━━━━━━━━\u001b[0m\u001b[37m\u001b[0m \u001b[1m4s\u001b[0m 1ms/step - accuracy: 0.8258 - loss: 3.9904 - val_accuracy: 0.8276 - val_loss: 1.2687\n",
      "Epoch 24/25\n",
      "\u001b[1m2737/2737\u001b[0m \u001b[32m━━━━━━━━━━━━━━━━━━━━\u001b[0m\u001b[37m\u001b[0m \u001b[1m4s\u001b[0m 1ms/step - accuracy: 0.8274 - loss: 3.9568 - val_accuracy: 0.8276 - val_loss: 1.2731\n",
      "Epoch 25/25\n",
      "\u001b[1m2737/2737\u001b[0m \u001b[32m━━━━━━━━━━━━━━━━━━━━\u001b[0m\u001b[37m\u001b[0m \u001b[1m4s\u001b[0m 1ms/step - accuracy: 0.8300 - loss: 3.9350 - val_accuracy: 0.8276 - val_loss: 1.2788\n"
     ]
    }
   ],
   "source": [
    "# Training parameters\n",
    "EPOCHS = 25\n",
    "BATCH_SIZE = 32\n",
    "\n",
    "# Disable filtering for error messages\n",
    "keras.config.disable_traceback_filtering()\n",
    "\n",
    "# Assign available number to current model\n",
    "model_num = 0\n",
    "while os.path.exists(\"models/cnn/model_%s.keras\" % f\"{model_num:02}\"):\n",
    "    model_num += 1\n",
    "log_dir = \"logs/cnn/\"\n",
    "#tensorboard_callback = keras.callbacks.TensorBoard(log_dir=log_dir, histogram_freq=1)\n",
    "\n",
    "# Train model\n",
    "#history=model.fit(X_train, y_train, epochs=EPOCHS, batch_size=BATCH_SIZE, validation_data=(X_test,y_test), callbacks=[tensorboard_callback])\n",
    "history=model.fit(X_train, y_train, epochs=EPOCHS, batch_size=BATCH_SIZE, validation_data=(X_test,y_test), class_weight=custom_weights)\n",
    "\n",
    "# Save trained model\n",
    "model_name = 'model_'+ str(f\"{model_num:02}\")\n",
    "model_path = 'models/cnn/' + model_name + '.keras'\n",
    "model.name = model_name\n",
    "model.save(model_path)"
   ]
  },
  {
   "cell_type": "markdown",
   "metadata": {},
   "source": [
    "Calculate the confusion matrix to evaluate the model performance"
   ]
  },
  {
   "cell_type": "code",
   "execution_count": 28,
   "metadata": {},
   "outputs": [
    {
     "name": "stdout",
     "output_type": "stream",
     "text": [
      "\u001b[1m685/685\u001b[0m \u001b[32m━━━━━━━━━━━━━━━━━━━━\u001b[0m\u001b[37m\u001b[0m \u001b[1m1s\u001b[0m 995us/step\n",
      "Confusion matrix\n",
      "        0    1    2    3    4\n",
      "0  0.8276  0.0  0.0  0.0  0.0\n",
      "1  0.0254  0.0  0.0  0.0  0.0\n",
      "2  0.0661  0.0  0.0  0.0  0.0\n",
      "3  0.0074  0.0  0.0  0.0  0.0\n",
      "4  0.0735  0.0  0.0  0.0  0.0\n",
      "\n",
      "Average accuracy\n",
      "0.16552165174492967\n"
     ]
    }
   ],
   "source": [
    "y_prediction = model.predict(X_test)\n",
    "y_prediction = np.argmax (y_prediction, axis = 1)\n",
    "y_test=np.argmax(y_test, axis=1)\n",
    "\n",
    "# Create confusion matrix and normalize it over predicted (columns)\n",
    "result = confusion_matrix(y_test, y_prediction , normalize='pred')\n",
    "classes = [0,1,2,3,4]\n",
    "result_norm = np.around(result, 4)\n",
    "mat_result = pd.DataFrame(result_norm,\n",
    "                     index = classes, \n",
    "                     columns = classes)\n",
    "\n",
    "total_pred = np.trace(result) / 5\n",
    "\n",
    "print('Confusion matrix')\n",
    "print(mat_result)\n",
    "print()\n",
    "print('Average accuracy')\n",
    "print(total_pred)"
   ]
  },
  {
   "cell_type": "markdown",
   "metadata": {},
   "source": [
    "Plot the confusion matrix with a color gradient"
   ]
  },
  {
   "cell_type": "code",
   "execution_count": 29,
   "metadata": {},
   "outputs": [
    {
     "data": {
      "image/png": "[encoded data removed]",
      "text/plain": [
       "<Figure size 400x400 with 2 Axes>"
      ]
     },
     "metadata": {},
     "output_type": "display_data"
    }
   ],
   "source": [
    "figure = plt.figure(figsize=(4, 4))\n",
    "sns.heatmap(mat_result, annot=True,cmap=plt.cm.Blues)\n",
    "plt.title(model_name)\n",
    "plt.ylabel('True label')\n",
    "plt.xlabel('Predicted label')\n",
    "plt.tight_layout()\n",
    "plt.savefig(log_dir + '/' + model_name + '.png', pad_inches=0.1)\n",
    "plt.show()"
   ]
  }
 ],
 "metadata": {
  "kernelspec": {
   "display_name": "Python 3 (ipykernel)",
   "language": "python",
   "name": "python3"
  },
  "language_info": {
   "codemirror_mode": {
    "name": "ipython",
    "version": 3
   },
   "file_extension": ".py",
   "mimetype": "text/x-python",
   "name": "python",
   "nbconvert_exporter": "python",
   "pygments_lexer": "ipython3",
   "version": "3.11.3"
  }
 },
 "nbformat": 4,
 "nbformat_minor": 2
}
