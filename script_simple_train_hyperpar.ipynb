{
 "cells": [
  {
   "cell_type": "markdown",
   "metadata": {},
   "source": [
    "# Simple Model Training\n",
    "This script is used to generate a CNN tensorflow model using hyperparameter search, train it and print the results"
   ]
  },
  {
   "cell_type": "code",
   "execution_count": 1,
   "metadata": {},
   "outputs": [],
   "source": [
    "# Importing packages\n",
    "import datetime\n",
    "import numpy as np\n",
    "import pandas as pd\n",
    "import seaborn as sns\n",
    "import matplotlib.pyplot as plt\n",
    "import keras\n",
    "from sklearn.metrics import classification_report\n",
    "from sklearn.model_selection import train_test_split\n",
    "from sklearn.metrics import f1_score\n",
    "from sklearn.metrics import confusion_matrix\n",
    "import keras\n",
    "import keras_tuner as kt\n",
    "from keras.utils import to_categorical\n",
    "from keras.layers import Dense, Convolution1D, Convolution2D, MaxPool1D, Flatten, Dropout, AveragePooling1D\n",
    "from keras.layers import Input\n",
    "from keras.models import Model, Sequential\n",
    "from keras.layers import BatchNormalization\n",
    "from keras.callbacks import EarlyStopping, ModelCheckpoint\n",
    "from sklearn.utils import class_weight\n",
    "from sklearn.utils import resample\n",
    "import warnings\n",
    "import os\n",
    "warnings.filterwarnings('ignore')"
   ]
  },
  {
   "cell_type": "code",
   "execution_count": 2,
   "metadata": {},
   "outputs": [],
   "source": [
    "# Training parameters\n",
    "EPOCHS = 20\n",
    "BATCH_SIZE = 32"
   ]
  },
  {
   "cell_type": "markdown",
   "metadata": {},
   "source": [
    "The data is loaded from two ```.csv``` files and is already divided into labeled samples. Each row contains one ECG sample: columns 0 to 186 are the ECG reading and 187 is the sample classification:\n",
    "    \n",
    "    ['N': 0, 'S': 1, 'V': 2, 'F': 3, 'Q': 4]"
   ]
  },
  {
   "cell_type": "code",
   "execution_count": 3,
   "metadata": {},
   "outputs": [],
   "source": [
    "# Load data from file\n",
    "train_df=pd.read_csv('src/mitbih_train.csv',header=None)\n",
    "test_df=pd.read_csv('src/mitbih_test.csv',header=None)\n",
    "\n",
    "#train_df.head()\n",
    "#train_df.tail()"
   ]
  },
  {
   "cell_type": "markdown",
   "metadata": {},
   "source": [
    "The data is divided into training and testing datasets and from each is extracted the vector containing the sample labels"
   ]
  },
  {
   "cell_type": "code",
   "execution_count": 4,
   "metadata": {},
   "outputs": [],
   "source": [
    "target_train=train_df[187]\n",
    "target_test=test_df[187]\n",
    "y_train=to_categorical(target_train)\n",
    "y_test=to_categorical(target_test)\n",
    "X_train=train_df.iloc[:,:186].values\n",
    "X_test=test_df.iloc[:,:186].values\n",
    "X_train = X_train.reshape(len(X_train), X_train.shape[1],1)\n",
    "X_test = X_test.reshape(len(X_test), X_test.shape[1],1)"
   ]
  },
  {
   "cell_type": "markdown",
   "metadata": {},
   "source": [
    "The CNN model is defined"
   ]
  },
  {
   "cell_type": "code",
   "execution_count": 5,
   "metadata": {},
   "outputs": [
    {
     "name": "stdout",
     "output_type": "stream",
     "text": [
      "Trial 15 Complete [00h 01m 30s]\n",
      "val_accuracy: 0.8276082873344421\n",
      "\n",
      "Best val_accuracy So Far: 0.91645348072052\n",
      "Total elapsed time: 00h 24m 06s\n"
     ]
    }
   ],
   "source": [
    "# Network Architecture Search with Tensorflow\n",
    "\n",
    "def build_model(hp):\n",
    "  model = keras.Sequential()\n",
    "  \n",
    "  # Standard input layer\n",
    "  model.add(keras.layers.Input(shape=((X_train.shape[1],1)), name='inputs_cnn'))\n",
    "\n",
    "  # Tune whether to use convolutional layers\n",
    "  if hp.Boolean(\"conv_1\"):\n",
    "    model.add(keras.layers.Convolution1D( filters=hp.Int(\"filters_1\", min_value=1, max_value=5, step=1), \n",
    "                                          kernel_size=hp.Int(\"kernel_size_1\", min_value=3, max_value=15, step=2),\n",
    "                                          strides=hp.Int(\"strides_1\", min_value=1, max_value=7, step=2), \n",
    "                                          padding=\"same\", activation='relu'))\n",
    "  \n",
    "  if hp.Boolean(\"maxpool_1\"):\n",
    "    model.add(keras.layers.MaxPool1D(pool_size=hp.Int(\"pool_size_1\", min_value=1, max_value=6, step=1)))\n",
    "\n",
    "  if hp.Boolean(\"conv_2\"):\n",
    "    model.add(keras.layers.Convolution1D( filters=hp.Int(\"filters_2\", min_value=1, max_value=5, step=1), \n",
    "                                          kernel_size=hp.Int(\"kernel_size_2\", min_value=3, max_value=7, step=2),\n",
    "                                          strides=hp.Int(\"strides_2\", min_value=1, max_value=7, step=2), \n",
    "                                          padding=\"same\", activation='relu'))\n",
    "    \n",
    "  if hp.Boolean(\"maxpool_2\"):\n",
    "    model.add(keras.layers.MaxPool1D(pool_size=hp.Int(\"pool_size_2\", min_value=1, max_value=6, step=1)))\n",
    "\n",
    "  if hp.Boolean(\"conv_3\"):\n",
    "    model.add(keras.layers.Convolution1D( filters=hp.Int(\"filters_3\", min_value=1, max_value=5, step=1), \n",
    "                                          kernel_size=hp.Int(\"kernel_size_3\", min_value=3, max_value=7, step=2),\n",
    "                                          strides=hp.Int(\"strides_3\", min_value=1, max_value=7, step=2), \n",
    "                                          padding=\"same\", activation='relu'))\n",
    "  \n",
    "  # Flatten before dense layers\n",
    "  model.add(keras.layers.Flatten())\n",
    "\n",
    "  # Fixed dense layers\n",
    "  model.add(keras.layers.Dense(30, activation='softmax', name='dense_1'))  \n",
    "  model.add(keras.layers.Dense(5, activation='softmax', name='main_output'))\n",
    "\n",
    "  # Tune the learning rate \n",
    "  learning_rate = hp.Float(\"lr\", min_value=1e-4, max_value=1e-2, sampling=\"log\")\n",
    "  model.compile(\n",
    "    optimizer=keras.optimizers.Adam(learning_rate=learning_rate),\n",
    "    loss=\"categorical_crossentropy\",\n",
    "    metrics=[\"accuracy\"],\n",
    "  )\n",
    "\n",
    "  return model\n",
    "\n",
    "build_model(kt.HyperParameters())\n",
    "\n",
    "tuner = kt.RandomSearch(\n",
    "    hypermodel=build_model,\n",
    "    objective=\"val_accuracy\",\n",
    "    max_trials=15,\n",
    "    executions_per_trial=2,\n",
    "    overwrite=True,\n",
    "    directory=\"my_dir\",\n",
    "    project_name=\"alg_8_peaks_nn\",\n",
    ")\n",
    "\n",
    "tuner.search(X_train, y_train, epochs=4, validation_data=(X_test, y_test))\n",
    "\n",
    "\n"
   ]
  },
  {
   "cell_type": "code",
   "execution_count": 6,
   "metadata": {},
   "outputs": [
    {
     "data": {
      "text/html": [
       "<pre style=\"white-space:pre;overflow-x:auto;line-height:normal;font-family:Menlo,'DejaVu Sans Mono',consolas,'Courier New',monospace\"><span style=\"font-weight: bold\">Model: \"sequential\"</span>\n",
       "</pre>\n"
      ],
      "text/plain": [
       "\u001b[1mModel: \"sequential\"\u001b[0m\n"
      ]
     },
     "metadata": {},
     "output_type": "display_data"
    },
    {
     "data": {
      "text/html": [
       "<pre style=\"white-space:pre;overflow-x:auto;line-height:normal;font-family:Menlo,'DejaVu Sans Mono',consolas,'Courier New',monospace\">┏━━━━━━━━━━━━━━━━━━━━━━━━━━━━━━━━━┳━━━━━━━━━━━━━━━━━━━━━━━━┳━━━━━━━━━━━━━━━┓\n",
       "┃<span style=\"font-weight: bold\"> Layer (type)                    </span>┃<span style=\"font-weight: bold\"> Output Shape           </span>┃<span style=\"font-weight: bold\">       Param # </span>┃\n",
       "┡━━━━━━━━━━━━━━━━━━━━━━━━━━━━━━━━━╇━━━━━━━━━━━━━━━━━━━━━━━━╇━━━━━━━━━━━━━━━┩\n",
       "│ max_pooling1d (<span style=\"color: #0087ff; text-decoration-color: #0087ff\">MaxPooling1D</span>)    │ (<span style=\"color: #00d7ff; text-decoration-color: #00d7ff\">None</span>, <span style=\"color: #00af00; text-decoration-color: #00af00\">62</span>, <span style=\"color: #00af00; text-decoration-color: #00af00\">1</span>)          │             <span style=\"color: #00af00; text-decoration-color: #00af00\">0</span> │\n",
       "├─────────────────────────────────┼────────────────────────┼───────────────┤\n",
       "│ conv1d (<span style=\"color: #0087ff; text-decoration-color: #0087ff\">Conv1D</span>)                 │ (<span style=\"color: #00d7ff; text-decoration-color: #00d7ff\">None</span>, <span style=\"color: #00af00; text-decoration-color: #00af00\">21</span>, <span style=\"color: #00af00; text-decoration-color: #00af00\">5</span>)          │            <span style=\"color: #00af00; text-decoration-color: #00af00\">20</span> │\n",
       "├─────────────────────────────────┼────────────────────────┼───────────────┤\n",
       "│ flatten (<span style=\"color: #0087ff; text-decoration-color: #0087ff\">Flatten</span>)               │ (<span style=\"color: #00d7ff; text-decoration-color: #00d7ff\">None</span>, <span style=\"color: #00af00; text-decoration-color: #00af00\">105</span>)            │             <span style=\"color: #00af00; text-decoration-color: #00af00\">0</span> │\n",
       "├─────────────────────────────────┼────────────────────────┼───────────────┤\n",
       "│ dense_1 (<span style=\"color: #0087ff; text-decoration-color: #0087ff\">Dense</span>)                 │ (<span style=\"color: #00d7ff; text-decoration-color: #00d7ff\">None</span>, <span style=\"color: #00af00; text-decoration-color: #00af00\">30</span>)             │         <span style=\"color: #00af00; text-decoration-color: #00af00\">3,180</span> │\n",
       "├─────────────────────────────────┼────────────────────────┼───────────────┤\n",
       "│ main_output (<span style=\"color: #0087ff; text-decoration-color: #0087ff\">Dense</span>)             │ (<span style=\"color: #00d7ff; text-decoration-color: #00d7ff\">None</span>, <span style=\"color: #00af00; text-decoration-color: #00af00\">5</span>)              │           <span style=\"color: #00af00; text-decoration-color: #00af00\">155</span> │\n",
       "└─────────────────────────────────┴────────────────────────┴───────────────┘\n",
       "</pre>\n"
      ],
      "text/plain": [
       "┏━━━━━━━━━━━━━━━━━━━━━━━━━━━━━━━━━┳━━━━━━━━━━━━━━━━━━━━━━━━┳━━━━━━━━━━━━━━━┓\n",
       "┃\u001b[1m \u001b[0m\u001b[1mLayer (type)                   \u001b[0m\u001b[1m \u001b[0m┃\u001b[1m \u001b[0m\u001b[1mOutput Shape          \u001b[0m\u001b[1m \u001b[0m┃\u001b[1m \u001b[0m\u001b[1m      Param #\u001b[0m\u001b[1m \u001b[0m┃\n",
       "┡━━━━━━━━━━━━━━━━━━━━━━━━━━━━━━━━━╇━━━━━━━━━━━━━━━━━━━━━━━━╇━━━━━━━━━━━━━━━┩\n",
       "│ max_pooling1d (\u001b[38;5;33mMaxPooling1D\u001b[0m)    │ (\u001b[38;5;45mNone\u001b[0m, \u001b[38;5;34m62\u001b[0m, \u001b[38;5;34m1\u001b[0m)          │             \u001b[38;5;34m0\u001b[0m │\n",
       "├─────────────────────────────────┼────────────────────────┼───────────────┤\n",
       "│ conv1d (\u001b[38;5;33mConv1D\u001b[0m)                 │ (\u001b[38;5;45mNone\u001b[0m, \u001b[38;5;34m21\u001b[0m, \u001b[38;5;34m5\u001b[0m)          │            \u001b[38;5;34m20\u001b[0m │\n",
       "├─────────────────────────────────┼────────────────────────┼───────────────┤\n",
       "│ flatten (\u001b[38;5;33mFlatten\u001b[0m)               │ (\u001b[38;5;45mNone\u001b[0m, \u001b[38;5;34m105\u001b[0m)            │             \u001b[38;5;34m0\u001b[0m │\n",
       "├─────────────────────────────────┼────────────────────────┼───────────────┤\n",
       "│ dense_1 (\u001b[38;5;33mDense\u001b[0m)                 │ (\u001b[38;5;45mNone\u001b[0m, \u001b[38;5;34m30\u001b[0m)             │         \u001b[38;5;34m3,180\u001b[0m │\n",
       "├─────────────────────────────────┼────────────────────────┼───────────────┤\n",
       "│ main_output (\u001b[38;5;33mDense\u001b[0m)             │ (\u001b[38;5;45mNone\u001b[0m, \u001b[38;5;34m5\u001b[0m)              │           \u001b[38;5;34m155\u001b[0m │\n",
       "└─────────────────────────────────┴────────────────────────┴───────────────┘\n"
      ]
     },
     "metadata": {},
     "output_type": "display_data"
    },
    {
     "data": {
      "text/html": [
       "<pre style=\"white-space:pre;overflow-x:auto;line-height:normal;font-family:Menlo,'DejaVu Sans Mono',consolas,'Courier New',monospace\"><span style=\"font-weight: bold\"> Total params: </span><span style=\"color: #00af00; text-decoration-color: #00af00\">3,355</span> (13.11 KB)\n",
       "</pre>\n"
      ],
      "text/plain": [
       "\u001b[1m Total params: \u001b[0m\u001b[38;5;34m3,355\u001b[0m (13.11 KB)\n"
      ]
     },
     "metadata": {},
     "output_type": "display_data"
    },
    {
     "data": {
      "text/html": [
       "<pre style=\"white-space:pre;overflow-x:auto;line-height:normal;font-family:Menlo,'DejaVu Sans Mono',consolas,'Courier New',monospace\"><span style=\"font-weight: bold\"> Trainable params: </span><span style=\"color: #00af00; text-decoration-color: #00af00\">3,355</span> (13.11 KB)\n",
       "</pre>\n"
      ],
      "text/plain": [
       "\u001b[1m Trainable params: \u001b[0m\u001b[38;5;34m3,355\u001b[0m (13.11 KB)\n"
      ]
     },
     "metadata": {},
     "output_type": "display_data"
    },
    {
     "data": {
      "text/html": [
       "<pre style=\"white-space:pre;overflow-x:auto;line-height:normal;font-family:Menlo,'DejaVu Sans Mono',consolas,'Courier New',monospace\"><span style=\"font-weight: bold\"> Non-trainable params: </span><span style=\"color: #00af00; text-decoration-color: #00af00\">0</span> (0.00 B)\n",
       "</pre>\n"
      ],
      "text/plain": [
       "\u001b[1m Non-trainable params: \u001b[0m\u001b[38;5;34m0\u001b[0m (0.00 B)\n"
      ]
     },
     "metadata": {},
     "output_type": "display_data"
    }
   ],
   "source": [
    "# Get the top 2 models.\n",
    "models = tuner.get_best_models(num_models=2)\n",
    "best_model = models[0]\n",
    "best_model.summary()\n",
    "\n",
    "model = best_model"
   ]
  },
  {
   "cell_type": "markdown",
   "metadata": {},
   "source": [
    "The model is trained on the dataset and the resulting parameters are saved"
   ]
  },
  {
   "cell_type": "code",
   "execution_count": 7,
   "metadata": {},
   "outputs": [
    {
     "name": "stdout",
     "output_type": "stream",
     "text": [
      "Epoch 1/20\n",
      "\u001b[1m2737/2737\u001b[0m \u001b[32m━━━━━━━━━━━━━━━━━━━━\u001b[0m\u001b[37m\u001b[0m \u001b[1m10s\u001b[0m 3ms/step - accuracy: 0.9259 - loss: 0.2577 - val_accuracy: 0.9344 - val_loss: 0.2351\n",
      "Epoch 2/20\n",
      "\u001b[1m2737/2737\u001b[0m \u001b[32m━━━━━━━━━━━━━━━━━━━━\u001b[0m\u001b[37m\u001b[0m \u001b[1m8s\u001b[0m 3ms/step - accuracy: 0.9427 - loss: 0.2055 - val_accuracy: 0.9470 - val_loss: 0.1901\n",
      "Epoch 3/20\n",
      "\u001b[1m2737/2737\u001b[0m \u001b[32m━━━━━━━━━━━━━━━━━━━━\u001b[0m\u001b[37m\u001b[0m \u001b[1m8s\u001b[0m 3ms/step - accuracy: 0.9499 - loss: 0.1768 - val_accuracy: 0.9515 - val_loss: 0.1729\n",
      "Epoch 4/20\n",
      "\u001b[1m2737/2737\u001b[0m \u001b[32m━━━━━━━━━━━━━━━━━━━━\u001b[0m\u001b[37m\u001b[0m \u001b[1m8s\u001b[0m 3ms/step - accuracy: 0.9537 - loss: 0.1593 - val_accuracy: 0.9571 - val_loss: 0.1585\n",
      "Epoch 5/20\n",
      "\u001b[1m2737/2737\u001b[0m \u001b[32m━━━━━━━━━━━━━━━━━━━━\u001b[0m\u001b[37m\u001b[0m \u001b[1m8s\u001b[0m 3ms/step - accuracy: 0.9561 - loss: 0.1506 - val_accuracy: 0.9582 - val_loss: 0.1603\n",
      "Epoch 6/20\n",
      "\u001b[1m2737/2737\u001b[0m \u001b[32m━━━━━━━━━━━━━━━━━━━━\u001b[0m\u001b[37m\u001b[0m \u001b[1m8s\u001b[0m 3ms/step - accuracy: 0.9598 - loss: 0.1423 - val_accuracy: 0.9547 - val_loss: 0.1606\n",
      "Epoch 7/20\n",
      "\u001b[1m2737/2737\u001b[0m \u001b[32m━━━━━━━━━━━━━━━━━━━━\u001b[0m\u001b[37m\u001b[0m \u001b[1m8s\u001b[0m 3ms/step - accuracy: 0.9613 - loss: 0.1360 - val_accuracy: 0.9607 - val_loss: 0.1484\n",
      "Epoch 8/20\n",
      "\u001b[1m2737/2737\u001b[0m \u001b[32m━━━━━━━━━━━━━━━━━━━━\u001b[0m\u001b[37m\u001b[0m \u001b[1m8s\u001b[0m 3ms/step - accuracy: 0.9623 - loss: 0.1371 - val_accuracy: 0.9583 - val_loss: 0.1506\n",
      "Epoch 9/20\n",
      "\u001b[1m2737/2737\u001b[0m \u001b[32m━━━━━━━━━━━━━━━━━━━━\u001b[0m\u001b[37m\u001b[0m \u001b[1m8s\u001b[0m 3ms/step - accuracy: 0.9610 - loss: 0.1355 - val_accuracy: 0.9599 - val_loss: 0.1481\n",
      "Epoch 10/20\n",
      "\u001b[1m2737/2737\u001b[0m \u001b[32m━━━━━━━━━━━━━━━━━━━━\u001b[0m\u001b[37m\u001b[0m \u001b[1m8s\u001b[0m 3ms/step - accuracy: 0.9628 - loss: 0.1322 - val_accuracy: 0.9596 - val_loss: 0.1458\n",
      "Epoch 11/20\n",
      "\u001b[1m2737/2737\u001b[0m \u001b[32m━━━━━━━━━━━━━━━━━━━━\u001b[0m\u001b[37m\u001b[0m \u001b[1m8s\u001b[0m 3ms/step - accuracy: 0.9638 - loss: 0.1278 - val_accuracy: 0.9617 - val_loss: 0.1471\n",
      "Epoch 12/20\n",
      "\u001b[1m2737/2737\u001b[0m \u001b[32m━━━━━━━━━━━━━━━━━━━━\u001b[0m\u001b[37m\u001b[0m \u001b[1m8s\u001b[0m 3ms/step - accuracy: 0.9642 - loss: 0.1252 - val_accuracy: 0.9593 - val_loss: 0.1492\n",
      "Epoch 13/20\n",
      "\u001b[1m2737/2737\u001b[0m \u001b[32m━━━━━━━━━━━━━━━━━━━━\u001b[0m\u001b[37m\u001b[0m \u001b[1m8s\u001b[0m 3ms/step - accuracy: 0.9647 - loss: 0.1256 - val_accuracy: 0.9595 - val_loss: 0.1494\n",
      "Epoch 14/20\n",
      "\u001b[1m2737/2737\u001b[0m \u001b[32m━━━━━━━━━━━━━━━━━━━━\u001b[0m\u001b[37m\u001b[0m \u001b[1m8s\u001b[0m 3ms/step - accuracy: 0.9646 - loss: 0.1258 - val_accuracy: 0.9618 - val_loss: 0.1450\n",
      "Epoch 15/20\n",
      "\u001b[1m2737/2737\u001b[0m \u001b[32m━━━━━━━━━━━━━━━━━━━━\u001b[0m\u001b[37m\u001b[0m \u001b[1m9s\u001b[0m 3ms/step - accuracy: 0.9652 - loss: 0.1229 - val_accuracy: 0.9617 - val_loss: 0.1438\n",
      "Epoch 16/20\n",
      "\u001b[1m2737/2737\u001b[0m \u001b[32m━━━━━━━━━━━━━━━━━━━━\u001b[0m\u001b[37m\u001b[0m \u001b[1m8s\u001b[0m 3ms/step - accuracy: 0.9658 - loss: 0.1228 - val_accuracy: 0.9627 - val_loss: 0.1419\n",
      "Epoch 17/20\n",
      "\u001b[1m2737/2737\u001b[0m \u001b[32m━━━━━━━━━━━━━━━━━━━━\u001b[0m\u001b[37m\u001b[0m \u001b[1m8s\u001b[0m 3ms/step - accuracy: 0.9667 - loss: 0.1198 - val_accuracy: 0.9606 - val_loss: 0.1493\n",
      "Epoch 18/20\n",
      "\u001b[1m2737/2737\u001b[0m \u001b[32m━━━━━━━━━━━━━━━━━━━━\u001b[0m\u001b[37m\u001b[0m \u001b[1m8s\u001b[0m 3ms/step - accuracy: 0.9663 - loss: 0.1191 - val_accuracy: 0.9594 - val_loss: 0.1463\n",
      "Epoch 19/20\n",
      "\u001b[1m2737/2737\u001b[0m \u001b[32m━━━━━━━━━━━━━━━━━━━━\u001b[0m\u001b[37m\u001b[0m \u001b[1m8s\u001b[0m 3ms/step - accuracy: 0.9670 - loss: 0.1199 - val_accuracy: 0.9628 - val_loss: 0.1434\n",
      "Epoch 20/20\n",
      "\u001b[1m2737/2737\u001b[0m \u001b[32m━━━━━━━━━━━━━━━━━━━━\u001b[0m\u001b[37m\u001b[0m \u001b[1m8s\u001b[0m 3ms/step - accuracy: 0.9672 - loss: 0.1164 - val_accuracy: 0.9624 - val_loss: 0.1393\n"
     ]
    }
   ],
   "source": [
    "# Disable filtering for error messages\n",
    "keras.config.disable_traceback_filtering()\n",
    "\n",
    "# Assign available number to current model\n",
    "model_num = 0\n",
    "while os.path.exists(\"models/cnn/model_%s.keras\" % f\"{model_num:02}\"):\n",
    "    model_num += 1\n",
    "log_dir = \"logs/cnn/\"\n",
    "#tensorboard_callback = keras.callbacks.TensorBoard(log_dir=log_dir, histogram_freq=1)\n",
    "\n",
    "# Train model\n",
    "#history=model.fit(X_train, y_train, epochs=EPOCHS, batch_size=BATCH_SIZE, validation_data=(X_test,y_test), callbacks=[tensorboard_callback])\n",
    "history=model.fit(X_train, y_train, epochs=EPOCHS, batch_size=BATCH_SIZE, validation_data=(X_test,y_test))\n",
    "\n",
    "# Save trained model\n",
    "model_name = 'model_'+ str(f\"{model_num:02}\")\n",
    "model_path = 'models/cnn/' + model_name + '.keras'\n",
    "model.name = model_name\n",
    "model.save(model_path)"
   ]
  },
  {
   "cell_type": "markdown",
   "metadata": {},
   "source": [
    "Calculate the confusion matrix to evaluate the model performance"
   ]
  },
  {
   "cell_type": "code",
   "execution_count": 8,
   "metadata": {},
   "outputs": [
    {
     "name": "stdout",
     "output_type": "stream",
     "text": [
      "\u001b[1m685/685\u001b[0m \u001b[32m━━━━━━━━━━━━━━━━━━━━\u001b[0m\u001b[37m\u001b[0m \u001b[1m2s\u001b[0m 2ms/step\n",
      "Confusion matrix\n",
      "        0       1       2       3       4\n",
      "0  0.9726  0.0954  0.0669  0.0882  0.0329\n",
      "1  0.0125  0.8954  0.0227  0.0074  0.0006\n",
      "2  0.0076  0.0092  0.8739  0.1691  0.0084\n",
      "3  0.0025  0.0000  0.0103  0.7353  0.0000\n",
      "4  0.0047  0.0000  0.0262  0.0000  0.9580\n",
      "\n",
      "Average accuracy\n",
      "0.88703422963567\n"
     ]
    }
   ],
   "source": [
    "y_prediction = model.predict(X_test)\n",
    "y_prediction = np.argmax (y_prediction, axis = 1)\n",
    "y_test=np.argmax(y_test, axis=1)\n",
    "\n",
    "# Create confusion matrix and normalize it over predicted (columns)\n",
    "result = confusion_matrix(y_test, y_prediction , normalize='pred')\n",
    "classes = [0,1,2,3,4]\n",
    "result_norm = np.around(result, 4)\n",
    "mat_result = pd.DataFrame(result_norm,\n",
    "                     index = classes, \n",
    "                     columns = classes)\n",
    "\n",
    "total_pred = np.trace(result) / 5\n",
    "\n",
    "print('Confusion matrix')\n",
    "print(mat_result)\n",
    "print()\n",
    "print('Average accuracy')\n",
    "print(total_pred)"
   ]
  },
  {
   "cell_type": "markdown",
   "metadata": {},
   "source": [
    "Plot the confusion matrix with a color gradient"
   ]
  },
  {
   "cell_type": "code",
   "execution_count": 9,
   "metadata": {},
   "outputs": [
    {
     "data": {
      "image/png": "[encoded data removed]",
      "text/plain": [
       "<Figure size 400x400 with 2 Axes>"
      ]
     },
     "metadata": {},
     "output_type": "display_data"
    }
   ],
   "source": [
    "figure = plt.figure(figsize=(4, 4))\n",
    "sns.heatmap(mat_result, annot=True,cmap=plt.cm.Blues)\n",
    "plt.title(model_name)\n",
    "plt.ylabel('True label')\n",
    "plt.xlabel('Predicted label')\n",
    "plt.tight_layout()\n",
    "plt.savefig(log_dir + '/' + model_name + '.png', pad_inches=0.1)\n",
    "plt.show()"
   ]
  }
 ],
 "metadata": {
  "kernelspec": {
   "display_name": "Python 3 (ipykernel)",
   "language": "python",
   "name": "python3"
  },
  "language_info": {
   "codemirror_mode": {
    "name": "ipython",
    "version": 3
   },
   "file_extension": ".py",
   "mimetype": "text/x-python",
   "name": "python",
   "nbconvert_exporter": "python",
   "pygments_lexer": "ipython3",
   "version": "3.11.3"
  }
 },
 "nbformat": 4,
 "nbformat_minor": 2
}
