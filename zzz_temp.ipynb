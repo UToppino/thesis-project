{
 "cells": [
  {
   "cell_type": "code",
   "execution_count": 17,
   "metadata": {},
   "outputs": [],
   "source": [
    "# Importing packages\n",
    "import datetime\n",
    "import numpy as np\n",
    "import pandas as pd\n",
    "import seaborn as sns\n",
    "import matplotlib.pyplot as plt\n",
    "import keras\n",
    "from sklearn.metrics import classification_report\n",
    "from sklearn.model_selection import train_test_split\n",
    "from sklearn.metrics import f1_score\n",
    "from sklearn.metrics import confusion_matrix\n",
    "import keras\n",
    "import keras_tuner as kt\n",
    "from keras.utils import to_categorical\n",
    "from keras.layers import Dense, Convolution1D, Convolution2D, MaxPool1D, Flatten, Dropout, AveragePooling1D\n",
    "from keras.layers import Input\n",
    "from keras.models import Model, Sequential\n",
    "from keras.layers import BatchNormalization\n",
    "from keras.callbacks import EarlyStopping, ModelCheckpoint\n",
    "from sklearn.utils import class_weight\n",
    "from sklearn.utils import resample\n",
    "import warnings\n",
    "import os\n",
    "warnings.filterwarnings('ignore')"
   ]
  },
  {
   "cell_type": "code",
   "execution_count": 18,
   "metadata": {},
   "outputs": [],
   "source": [
    "v_peaks_data = np.array(   [[1.0, 2.0, 1.5, 4.0, 9.0, 1.0, 2.3, 5.0, 1.0],\n",
    "                            [1.0, 2.0, 1.5, 4.0, 9.0, 1.0, 0.0, 0.0, 0.0],\n",
    "                            [1.0, 2.0, 1.5, 4.0, 9.0, 1.0, 2.3, 5.0, 1.0],\n",
    "                            [1.0, 2.0, 1.5, 4.0, 9.0, 1.0, 2.3, 5.0, 0.0]])\n",
    "v_peaks_time = np.array(   [[1, 2, 3, 4, 5, 6, 7, 8, 9],\n",
    "                            [1, 2, 3, 4, 5, 6, 0, 0, 0],\n",
    "                            [1, 2, 3, 4, 5, 6, 7, 8, 9],\n",
    "                            [1, 2, 3, 4, 5, 6, 7, 8, 0]])"
   ]
  },
  {
   "cell_type": "code",
   "execution_count": 19,
   "metadata": {},
   "outputs": [],
   "source": [
    "# Define structure of arraysù\n",
    "NUM_PEAKS = 8\n",
    "input_peaks = np.zeros((len(v_peaks_data),2*NUM_PEAKS))\n",
    "\n",
    "# Fill strcuture with peaks data\n",
    "# P0,dT0,P1,dT1,P2,dT2...,Pn,Tn  \n",
    "# with Px: peak amplitude, Tx: delta time from previous peak\n",
    "for n in range(len(v_peaks_data)):\n",
    "    prev_time = 0\n",
    "    tmp_data = v_peaks_data[n][v_peaks_time[n] != 0]\n",
    "    tmp_time = v_peaks_time[n][v_peaks_time[n] != 0]\n",
    "    # Calculate how many max and min peaks to consider\n",
    "    if(len(tmp_data)>=NUM_PEAKS):\n",
    "        n_max = int(NUM_PEAKS/2)\n",
    "        n_min = NUM_PEAKS-n_max\n",
    "    else:\n",
    "        n_max = int(len(tmp_data)/2)\n",
    "        n_min = len(tmp_data)-n_max\n",
    "    # Select max and min indexes\n",
    "    i_max = np.argpartition(tmp_data, -n_max)[-n_max:]\n",
    "    i_min = np.argpartition(tmp_data, n_min)[:n_min] \n",
    "    i_peaks = np.sort(np.append(i_max, i_min))\n",
    "    # Copy peaks amplitude and time\n",
    "    for i in range(len(i_peaks)):\n",
    "        if(i >= NUM_PEAKS):\n",
    "            break\n",
    "        # Copy peaks to structure\n",
    "        input_peaks[n][2*i] = tmp_data[i]\n",
    "        input_peaks[n][2*i+1] = tmp_time[i] - prev_time\n",
    "        prev_time = tmp_time[i]"
   ]
  },
  {
   "cell_type": "code",
   "execution_count": 20,
   "metadata": {},
   "outputs": [
    {
     "name": "stdout",
     "output_type": "stream",
     "text": [
      "[[1.  1.  2.  1.  1.5 1.  4.  1.  9.  1.  1.  1.  2.3 1.  5.  1. ]\n",
      " [1.  1.  2.  1.  1.5 1.  4.  1.  9.  1.  1.  1.  0.  0.  0.  0. ]\n",
      " [1.  1.  2.  1.  1.5 1.  4.  1.  9.  1.  1.  1.  2.3 1.  5.  1. ]\n",
      " [1.  1.  2.  1.  1.5 1.  4.  1.  9.  1.  1.  1.  2.3 1.  5.  1. ]]\n"
     ]
    }
   ],
   "source": [
    "print(input_peaks)"
   ]
  }
 ],
 "metadata": {
  "kernelspec": {
   "display_name": ".venv",
   "language": "python",
   "name": "python3"
  },
  "language_info": {
   "codemirror_mode": {
    "name": "ipython",
    "version": 3
   },
   "file_extension": ".py",
   "mimetype": "text/x-python",
   "name": "python",
   "nbconvert_exporter": "python",
   "pygments_lexer": "ipython3",
   "version": "3.11.3"
  }
 },
 "nbformat": 4,
 "nbformat_minor": 2
}
