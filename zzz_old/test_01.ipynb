{
 "cells": [
  {
   "cell_type": "markdown",
   "metadata": {},
   "source": [
    "## TEST"
   ]
  },
  {
   "cell_type": "code",
   "execution_count": 1,
   "metadata": {},
   "outputs": [],
   "source": [
    "# import packages\n",
    "import datetime\n",
    "import numpy as np\n",
    "import pandas as pd\n",
    "import seaborn as sns\n",
    "import matplotlib.pyplot as plt\n",
    "from tensorflow import keras\n",
    "from sklearn.metrics import classification_report\n",
    "from sklearn.model_selection import train_test_split\n",
    "from sklearn.metrics import f1_score\n",
    "from sklearn.metrics import confusion_matrix\n",
    "from keras.utils import to_categorical\n",
    "from keras.layers import Dense, Convolution1D, Convolution2D, MaxPool1D, Flatten, Dropout, AveragePooling1D\n",
    "from keras.layers import Input\n",
    "from keras.models import Model, Sequential\n",
    "#from keras.layers.normalization import BatchNormalization\n",
    "from keras.layers import BatchNormalization\n",
    "import keras\n",
    "from keras.callbacks import EarlyStopping, ModelCheckpoint\n",
    "from sklearn.utils import class_weight\n",
    "from sklearn.utils import resample\n",
    "import tensorflow as tf\n",
    "import logging\n",
    "import warnings\n",
    "import os\n",
    "\n",
    "\n",
    "logging.getLogger(\"tensorflow\").setLevel(logging.DEBUG)\n",
    "os.environ[\"KMP_DUPLICATE_LIB_OK\"]=\"TRUE\"\n",
    "warnings.filterwarnings('ignore')"
   ]
  },
  {
   "cell_type": "code",
   "execution_count": 4,
   "metadata": {},
   "outputs": [
    {
     "name": "stdout",
     "output_type": "stream",
     "text": [
      "            0         1         2         3         4         5         6    \\\n",
      "87549  0.807018  0.494737  0.536842  0.529825  0.491228  0.484211  0.456140   \n",
      "87550  0.718333  0.605000  0.486667  0.361667  0.231667  0.120000  0.051667   \n",
      "87551  0.906122  0.624490  0.595918  0.575510  0.530612  0.481633  0.444898   \n",
      "87552  0.858228  0.645570  0.845570  0.248101  0.167089  0.131646  0.121519   \n",
      "87553  0.901506  0.845886  0.800695  0.748552  0.687138  0.599073  0.512167   \n",
      "\n",
      "            7         8         9    ...  178  179  180  181  182  183  184  \\\n",
      "87549  0.396491  0.284211  0.136842  ...  0.0  0.0  0.0  0.0  0.0  0.0  0.0   \n",
      "87550  0.001667  0.000000  0.013333  ...  0.0  0.0  0.0  0.0  0.0  0.0  0.0   \n",
      "87551  0.387755  0.322449  0.191837  ...  0.0  0.0  0.0  0.0  0.0  0.0  0.0   \n",
      "87552  0.121519  0.118987  0.103797  ...  0.0  0.0  0.0  0.0  0.0  0.0  0.0   \n",
      "87553  0.427578  0.395133  0.402086  ...  0.0  0.0  0.0  0.0  0.0  0.0  0.0   \n",
      "\n",
      "       185  186  187  \n",
      "87549  0.0  0.0  4.0  \n",
      "87550  0.0  0.0  4.0  \n",
      "87551  0.0  0.0  4.0  \n",
      "87552  0.0  0.0  4.0  \n",
      "87553  0.0  0.0  4.0  \n",
      "\n",
      "[5 rows x 188 columns]\n"
     ]
    }
   ],
   "source": [
    "# Load data\n",
    "train_df=pd.read_csv('src/mitbih_train.csv',header=None)\n",
    "test_df=pd.read_csv('src/mitbih_test.csv',header=None)\n",
    "\n",
    "# Scale the values to 16bit uint (0-65535)\n",
    "rows, cols = train_df.shape\n",
    "train_df_int = pd.DataFrame(index=range(rows+1), columns=range(cols+1))\n",
    "train_df_int = train_df.mul(65535)\n",
    "train_df_int[187] = train_df[187]\n",
    "\n",
    "rows, cols = test_df.shape\n",
    "test_df_int = pd.DataFrame(index=range(rows+1), columns=range(cols+1))\n",
    "test_df_int = test_df.mul(65535)\n",
    "test_df_int[187] = test_df[187]\n",
    "\n",
    "# Float to int \n",
    "train_df_int = train_df_int.astype(int)\n",
    "test_df_int = test_df_int.astype(int)\n",
    "\n",
    "#train_df = train_df_int\n",
    "#test_df = test_df_int\n",
    "\n",
    "train_df = train_df.astype(np.float32)\n",
    "test_df = test_df.astype(np.float32)\n",
    "\n",
    "#print(train_df_int.head())\n",
    "print(train_df.tail())\n",
    "\n",
    "train_df_int.to_csv('src/mitbih_test_int.csv', header=None)"
   ]
  },
  {
   "cell_type": "code",
   "execution_count": 24,
   "metadata": {},
   "outputs": [],
   "source": [
    "# Training parameters\n",
    "EPOCHS = 20 #40 seems ok\n",
    "BATCH_SIZE = 32"
   ]
  },
  {
   "cell_type": "markdown",
   "metadata": {},
   "source": [
    "Resampling data to balance the classes\n",
    "\n",
    "```\n",
    "df_1=train_df[train_df[187]==1]\n",
    "df_2=train_df[train_df[187]==2]\n",
    "df_3=train_df[train_df[187]==3]\n",
    "df_4=train_df[train_df[187]==4]\n",
    "df_0=(train_df[train_df[187]==0]).sample(n=20000,random_state=42)\n",
    "\n",
    "df_1_upsample=resample(df_1,replace=True,n_samples=20000,random_state=123)\n",
    "df_2_upsample=resample(df_2,replace=True,n_samples=20000,random_state=124)\n",
    "df_3_upsample=resample(df_3,replace=True,n_samples=20000,random_state=125)\n",
    "df_4_upsample=resample(df_4,replace=True,n_samples=20000,random_state=126)\n",
    "\n",
    "train_df=pd.concat([df_0,df_1_upsample,df_2_upsample,df_3_upsample,df_4_upsample])\n",
    "```"
   ]
  },
  {
   "cell_type": "code",
   "execution_count": 25,
   "metadata": {},
   "outputs": [
    {
     "name": "stdout",
     "output_type": "stream",
     "text": [
      "0        0.0\n",
      "1        0.0\n",
      "2        0.0\n",
      "3        0.0\n",
      "4        0.0\n",
      "        ... \n",
      "87549    4.0\n",
      "87550    4.0\n",
      "87551    4.0\n",
      "87552    4.0\n",
      "87553    4.0\n",
      "Name: 187, Length: 87554, dtype: float32\n"
     ]
    }
   ],
   "source": [
    "target_train=train_df[187]\n",
    "target_test=test_df[187]\n",
    "y_train=to_categorical(target_train)\n",
    "y_test=to_categorical(target_test)\n",
    "X_train=train_df.iloc[:,:186].values\n",
    "X_test=test_df.iloc[:,:186].values\n",
    "\n",
    "# Calculate derivative on data\n",
    "X_test_der = np.empty_like(X_test)\n",
    "X_train_der = np.empty_like(X_train)\n",
    "for i in range(len(X_test)):\n",
    "    X_test_der[i] = np.gradient(X_test[i])\n",
    "    X_train_der[i] = np.gradient(X_train[i])\n",
    "\n",
    "# Use derivative for CNN\n",
    "X_train = X_train.reshape(len(X_train_der), X_train_der.shape[1],1)\n",
    "X_test = X_test.reshape(len(X_test_der), X_test_der.shape[1],1)\n",
    "\n",
    "# Use normal data for CNN\n",
    "X_train = X_train.reshape(len(X_train), X_train.shape[1],1)\n",
    "X_test = X_test.reshape(len(X_test), X_test.shape[1],1)\n",
    "print(target_train)"
   ]
  },
  {
   "cell_type": "code",
   "execution_count": 26,
   "metadata": {},
   "outputs": [
    {
     "data": {
      "text/html": [
       "<pre style=\"white-space:pre;overflow-x:auto;line-height:normal;font-family:Menlo,'DejaVu Sans Mono',consolas,'Courier New',monospace\"><span style=\"font-weight: bold\">Model: \"sequential_1\"</span>\n",
       "</pre>\n"
      ],
      "text/plain": [
       "\u001b[1mModel: \"sequential_1\"\u001b[0m\n"
      ]
     },
     "metadata": {},
     "output_type": "display_data"
    },
    {
     "data": {
      "text/html": [
       "<pre style=\"white-space:pre;overflow-x:auto;line-height:normal;font-family:Menlo,'DejaVu Sans Mono',consolas,'Courier New',monospace\">┏━━━━━━━━━━━━━━━━━━━━━━━━━━━━━━━━━┳━━━━━━━━━━━━━━━━━━━━━━━━┳━━━━━━━━━━━━━━━┓\n",
       "┃<span style=\"font-weight: bold\"> Layer (type)                    </span>┃<span style=\"font-weight: bold\"> Output Shape           </span>┃<span style=\"font-weight: bold\">       Param # </span>┃\n",
       "┡━━━━━━━━━━━━━━━━━━━━━━━━━━━━━━━━━╇━━━━━━━━━━━━━━━━━━━━━━━━╇━━━━━━━━━━━━━━━┩\n",
       "│ conv1d_2 (<span style=\"color: #0087ff; text-decoration-color: #0087ff\">Conv1D</span>)               │ (<span style=\"color: #00d7ff; text-decoration-color: #00d7ff\">None</span>, <span style=\"color: #00af00; text-decoration-color: #00af00\">186</span>, <span style=\"color: #00af00; text-decoration-color: #00af00\">1</span>)         │             <span style=\"color: #00af00; text-decoration-color: #00af00\">4</span> │\n",
       "├─────────────────────────────────┼────────────────────────┼───────────────┤\n",
       "│ max_pooling1d_2 (<span style=\"color: #0087ff; text-decoration-color: #0087ff\">MaxPooling1D</span>)  │ (<span style=\"color: #00d7ff; text-decoration-color: #00d7ff\">None</span>, <span style=\"color: #00af00; text-decoration-color: #00af00\">93</span>, <span style=\"color: #00af00; text-decoration-color: #00af00\">1</span>)          │             <span style=\"color: #00af00; text-decoration-color: #00af00\">0</span> │\n",
       "├─────────────────────────────────┼────────────────────────┼───────────────┤\n",
       "│ conv1d_3 (<span style=\"color: #0087ff; text-decoration-color: #0087ff\">Conv1D</span>)               │ (<span style=\"color: #00d7ff; text-decoration-color: #00d7ff\">None</span>, <span style=\"color: #00af00; text-decoration-color: #00af00\">30</span>, <span style=\"color: #00af00; text-decoration-color: #00af00\">1</span>)          │             <span style=\"color: #00af00; text-decoration-color: #00af00\">6</span> │\n",
       "├─────────────────────────────────┼────────────────────────┼───────────────┤\n",
       "│ max_pooling1d_3 (<span style=\"color: #0087ff; text-decoration-color: #0087ff\">MaxPooling1D</span>)  │ (<span style=\"color: #00d7ff; text-decoration-color: #00d7ff\">None</span>, <span style=\"color: #00af00; text-decoration-color: #00af00\">15</span>, <span style=\"color: #00af00; text-decoration-color: #00af00\">1</span>)          │             <span style=\"color: #00af00; text-decoration-color: #00af00\">0</span> │\n",
       "├─────────────────────────────────┼────────────────────────┼───────────────┤\n",
       "│ flat_1 (<span style=\"color: #0087ff; text-decoration-color: #0087ff\">Flatten</span>)                │ (<span style=\"color: #00d7ff; text-decoration-color: #00d7ff\">None</span>, <span style=\"color: #00af00; text-decoration-color: #00af00\">15</span>)             │             <span style=\"color: #00af00; text-decoration-color: #00af00\">0</span> │\n",
       "├─────────────────────────────────┼────────────────────────┼───────────────┤\n",
       "│ dense_1 (<span style=\"color: #0087ff; text-decoration-color: #0087ff\">Dense</span>)                 │ (<span style=\"color: #00d7ff; text-decoration-color: #00d7ff\">None</span>, <span style=\"color: #00af00; text-decoration-color: #00af00\">30</span>)             │           <span style=\"color: #00af00; text-decoration-color: #00af00\">480</span> │\n",
       "├─────────────────────────────────┼────────────────────────┼───────────────┤\n",
       "│ main_output (<span style=\"color: #0087ff; text-decoration-color: #0087ff\">Dense</span>)             │ (<span style=\"color: #00d7ff; text-decoration-color: #00d7ff\">None</span>, <span style=\"color: #00af00; text-decoration-color: #00af00\">5</span>)              │           <span style=\"color: #00af00; text-decoration-color: #00af00\">155</span> │\n",
       "└─────────────────────────────────┴────────────────────────┴───────────────┘\n",
       "</pre>\n"
      ],
      "text/plain": [
       "┏━━━━━━━━━━━━━━━━━━━━━━━━━━━━━━━━━┳━━━━━━━━━━━━━━━━━━━━━━━━┳━━━━━━━━━━━━━━━┓\n",
       "┃\u001b[1m \u001b[0m\u001b[1mLayer (type)                   \u001b[0m\u001b[1m \u001b[0m┃\u001b[1m \u001b[0m\u001b[1mOutput Shape          \u001b[0m\u001b[1m \u001b[0m┃\u001b[1m \u001b[0m\u001b[1m      Param #\u001b[0m\u001b[1m \u001b[0m┃\n",
       "┡━━━━━━━━━━━━━━━━━━━━━━━━━━━━━━━━━╇━━━━━━━━━━━━━━━━━━━━━━━━╇━━━━━━━━━━━━━━━┩\n",
       "│ conv1d_2 (\u001b[38;5;33mConv1D\u001b[0m)               │ (\u001b[38;5;45mNone\u001b[0m, \u001b[38;5;34m186\u001b[0m, \u001b[38;5;34m1\u001b[0m)         │             \u001b[38;5;34m4\u001b[0m │\n",
       "├─────────────────────────────────┼────────────────────────┼───────────────┤\n",
       "│ max_pooling1d_2 (\u001b[38;5;33mMaxPooling1D\u001b[0m)  │ (\u001b[38;5;45mNone\u001b[0m, \u001b[38;5;34m93\u001b[0m, \u001b[38;5;34m1\u001b[0m)          │             \u001b[38;5;34m0\u001b[0m │\n",
       "├─────────────────────────────────┼────────────────────────┼───────────────┤\n",
       "│ conv1d_3 (\u001b[38;5;33mConv1D\u001b[0m)               │ (\u001b[38;5;45mNone\u001b[0m, \u001b[38;5;34m30\u001b[0m, \u001b[38;5;34m1\u001b[0m)          │             \u001b[38;5;34m6\u001b[0m │\n",
       "├─────────────────────────────────┼────────────────────────┼───────────────┤\n",
       "│ max_pooling1d_3 (\u001b[38;5;33mMaxPooling1D\u001b[0m)  │ (\u001b[38;5;45mNone\u001b[0m, \u001b[38;5;34m15\u001b[0m, \u001b[38;5;34m1\u001b[0m)          │             \u001b[38;5;34m0\u001b[0m │\n",
       "├─────────────────────────────────┼────────────────────────┼───────────────┤\n",
       "│ flat_1 (\u001b[38;5;33mFlatten\u001b[0m)                │ (\u001b[38;5;45mNone\u001b[0m, \u001b[38;5;34m15\u001b[0m)             │             \u001b[38;5;34m0\u001b[0m │\n",
       "├─────────────────────────────────┼────────────────────────┼───────────────┤\n",
       "│ dense_1 (\u001b[38;5;33mDense\u001b[0m)                 │ (\u001b[38;5;45mNone\u001b[0m, \u001b[38;5;34m30\u001b[0m)             │           \u001b[38;5;34m480\u001b[0m │\n",
       "├─────────────────────────────────┼────────────────────────┼───────────────┤\n",
       "│ main_output (\u001b[38;5;33mDense\u001b[0m)             │ (\u001b[38;5;45mNone\u001b[0m, \u001b[38;5;34m5\u001b[0m)              │           \u001b[38;5;34m155\u001b[0m │\n",
       "└─────────────────────────────────┴────────────────────────┴───────────────┘\n"
      ]
     },
     "metadata": {},
     "output_type": "display_data"
    },
    {
     "data": {
      "text/html": [
       "<pre style=\"white-space:pre;overflow-x:auto;line-height:normal;font-family:Menlo,'DejaVu Sans Mono',consolas,'Courier New',monospace\"><span style=\"font-weight: bold\"> Total params: </span><span style=\"color: #00af00; text-decoration-color: #00af00\">645</span> (2.52 KB)\n",
       "</pre>\n"
      ],
      "text/plain": [
       "\u001b[1m Total params: \u001b[0m\u001b[38;5;34m645\u001b[0m (2.52 KB)\n"
      ]
     },
     "metadata": {},
     "output_type": "display_data"
    },
    {
     "data": {
      "text/html": [
       "<pre style=\"white-space:pre;overflow-x:auto;line-height:normal;font-family:Menlo,'DejaVu Sans Mono',consolas,'Courier New',monospace\"><span style=\"font-weight: bold\"> Trainable params: </span><span style=\"color: #00af00; text-decoration-color: #00af00\">645</span> (2.52 KB)\n",
       "</pre>\n"
      ],
      "text/plain": [
       "\u001b[1m Trainable params: \u001b[0m\u001b[38;5;34m645\u001b[0m (2.52 KB)\n"
      ]
     },
     "metadata": {},
     "output_type": "display_data"
    },
    {
     "data": {
      "text/html": [
       "<pre style=\"white-space:pre;overflow-x:auto;line-height:normal;font-family:Menlo,'DejaVu Sans Mono',consolas,'Courier New',monospace\"><span style=\"font-weight: bold\"> Non-trainable params: </span><span style=\"color: #00af00; text-decoration-color: #00af00\">0</span> (0.00 B)\n",
       "</pre>\n"
      ],
      "text/plain": [
       "\u001b[1m Non-trainable params: \u001b[0m\u001b[38;5;34m0\u001b[0m (0.00 B)\n"
      ]
     },
     "metadata": {},
     "output_type": "display_data"
    }
   ],
   "source": [
    "im_shape=(X_train.shape[1],1)\n",
    "model = Sequential([\n",
    "    Input(shape=(im_shape), name='inputs_cnn'),\n",
    "    #AveragePooling1D(2),\n",
    "    Convolution1D(1, (3), strides=1, padding=\"same\", activation='relu'),\n",
    "    MaxPool1D(2),\n",
    "    #Dropout(0.1),\n",
    "    Convolution1D(1, (5), strides=3, activation='relu'),\n",
    "    MaxPool1D(2),\n",
    "    Flatten(name='flat_1'),\n",
    "    Dense(30, activation='relu'),\n",
    "    Dense(5, activation='softmax', name='main_output')\n",
    "])\n",
    "\n",
    "#model = Model(inputs= inputs_cnn, outputs=main_output)\n",
    "model.compile(optimizer='adam', loss='categorical_crossentropy',metrics = ['accuracy'])\n",
    "model.summary()\n",
    "#model.count_params()"
   ]
  },
  {
   "cell_type": "code",
   "execution_count": 27,
   "metadata": {},
   "outputs": [
    {
     "name": "stdout",
     "output_type": "stream",
     "text": [
      "Epoch 1/20\n",
      "\u001b[1m2737/2737\u001b[0m \u001b[32m━━━━━━━━━━━━━━━━━━━━\u001b[0m\u001b[37m\u001b[0m \u001b[1m10s\u001b[0m 3ms/step - accuracy: 0.8355 - loss: 0.7254 - val_accuracy: 0.8889 - val_loss: 0.4243\n",
      "Epoch 2/20\n",
      "\u001b[1m2737/2737\u001b[0m \u001b[32m━━━━━━━━━━━━━━━━━━━━\u001b[0m\u001b[37m\u001b[0m \u001b[1m9s\u001b[0m 3ms/step - accuracy: 0.8923 - loss: 0.4032 - val_accuracy: 0.8987 - val_loss: 0.3754\n",
      "Epoch 3/20\n",
      "\u001b[1m2737/2737\u001b[0m \u001b[32m━━━━━━━━━━━━━━━━━━━━\u001b[0m\u001b[37m\u001b[0m \u001b[1m9s\u001b[0m 3ms/step - accuracy: 0.9003 - loss: 0.3591 - val_accuracy: 0.9042 - val_loss: 0.3488\n",
      "Epoch 4/20\n",
      "\u001b[1m2737/2737\u001b[0m \u001b[32m━━━━━━━━━━━━━━━━━━━━\u001b[0m\u001b[37m\u001b[0m \u001b[1m9s\u001b[0m 3ms/step - accuracy: 0.9070 - loss: 0.3302 - val_accuracy: 0.9052 - val_loss: 0.3362\n",
      "Epoch 5/20\n",
      "\u001b[1m2737/2737\u001b[0m \u001b[32m━━━━━━━━━━━━━━━━━━━━\u001b[0m\u001b[37m\u001b[0m \u001b[1m9s\u001b[0m 3ms/step - accuracy: 0.9095 - loss: 0.3190 - val_accuracy: 0.9053 - val_loss: 0.3256\n",
      "Epoch 6/20\n",
      "\u001b[1m2737/2737\u001b[0m \u001b[32m━━━━━━━━━━━━━━━━━━━━\u001b[0m\u001b[37m\u001b[0m \u001b[1m9s\u001b[0m 3ms/step - accuracy: 0.9113 - loss: 0.3075 - val_accuracy: 0.9103 - val_loss: 0.3139\n",
      "Epoch 7/20\n",
      "\u001b[1m2737/2737\u001b[0m \u001b[32m━━━━━━━━━━━━━━━━━━━━\u001b[0m\u001b[37m\u001b[0m \u001b[1m10s\u001b[0m 3ms/step - accuracy: 0.9112 - loss: 0.3034 - val_accuracy: 0.9106 - val_loss: 0.3068\n",
      "Epoch 8/20\n",
      "\u001b[1m2737/2737\u001b[0m \u001b[32m━━━━━━━━━━━━━━━━━━━━\u001b[0m\u001b[37m\u001b[0m \u001b[1m9s\u001b[0m 3ms/step - accuracy: 0.9117 - loss: 0.2988 - val_accuracy: 0.9121 - val_loss: 0.3003\n",
      "Epoch 9/20\n",
      "\u001b[1m2737/2737\u001b[0m \u001b[32m━━━━━━━━━━━━━━━━━━━━\u001b[0m\u001b[37m\u001b[0m \u001b[1m9s\u001b[0m 3ms/step - accuracy: 0.9133 - loss: 0.2947 - val_accuracy: 0.9139 - val_loss: 0.2956\n",
      "Epoch 10/20\n",
      "\u001b[1m2737/2737\u001b[0m \u001b[32m━━━━━━━━━━━━━━━━━━━━\u001b[0m\u001b[37m\u001b[0m \u001b[1m9s\u001b[0m 3ms/step - accuracy: 0.9187 - loss: 0.2759 - val_accuracy: 0.9152 - val_loss: 0.2917\n",
      "Epoch 11/20\n",
      "\u001b[1m2737/2737\u001b[0m \u001b[32m━━━━━━━━━━━━━━━━━━━━\u001b[0m\u001b[37m\u001b[0m \u001b[1m9s\u001b[0m 3ms/step - accuracy: 0.9167 - loss: 0.2847 - val_accuracy: 0.9173 - val_loss: 0.2872\n",
      "Epoch 12/20\n",
      "\u001b[1m2737/2737\u001b[0m \u001b[32m━━━━━━━━━━━━━━━━━━━━\u001b[0m\u001b[37m\u001b[0m \u001b[1m9s\u001b[0m 3ms/step - accuracy: 0.9204 - loss: 0.2737 - val_accuracy: 0.9192 - val_loss: 0.2838\n",
      "Epoch 13/20\n",
      "\u001b[1m2737/2737\u001b[0m \u001b[32m━━━━━━━━━━━━━━━━━━━━\u001b[0m\u001b[37m\u001b[0m \u001b[1m10s\u001b[0m 4ms/step - accuracy: 0.9195 - loss: 0.2753 - val_accuracy: 0.9185 - val_loss: 0.2820\n",
      "Epoch 14/20\n",
      "\u001b[1m2737/2737\u001b[0m \u001b[32m━━━━━━━━━━━━━━━━━━━━\u001b[0m\u001b[37m\u001b[0m \u001b[1m10s\u001b[0m 4ms/step - accuracy: 0.9206 - loss: 0.2719 - val_accuracy: 0.9204 - val_loss: 0.2806\n",
      "Epoch 15/20\n",
      "\u001b[1m2737/2737\u001b[0m \u001b[32m━━━━━━━━━━━━━━━━━━━━\u001b[0m\u001b[37m\u001b[0m \u001b[1m9s\u001b[0m 3ms/step - accuracy: 0.9201 - loss: 0.2746 - val_accuracy: 0.9208 - val_loss: 0.2837\n",
      "Epoch 16/20\n",
      "\u001b[1m2737/2737\u001b[0m \u001b[32m━━━━━━━━━━━━━━━━━━━━\u001b[0m\u001b[37m\u001b[0m \u001b[1m10s\u001b[0m 4ms/step - accuracy: 0.9214 - loss: 0.2678 - val_accuracy: 0.9199 - val_loss: 0.2797\n",
      "Epoch 17/20\n",
      "\u001b[1m2737/2737\u001b[0m \u001b[32m━━━━━━━━━━━━━━━━━━━━\u001b[0m\u001b[37m\u001b[0m \u001b[1m10s\u001b[0m 4ms/step - accuracy: 0.9225 - loss: 0.2662 - val_accuracy: 0.9211 - val_loss: 0.2734\n",
      "Epoch 18/20\n",
      "\u001b[1m2737/2737\u001b[0m \u001b[32m━━━━━━━━━━━━━━━━━━━━\u001b[0m\u001b[37m\u001b[0m \u001b[1m10s\u001b[0m 4ms/step - accuracy: 0.9210 - loss: 0.2709 - val_accuracy: 0.9209 - val_loss: 0.2740\n",
      "Epoch 19/20\n",
      "\u001b[1m2737/2737\u001b[0m \u001b[32m━━━━━━━━━━━━━━━━━━━━\u001b[0m\u001b[37m\u001b[0m \u001b[1m10s\u001b[0m 3ms/step - accuracy: 0.9234 - loss: 0.2623 - val_accuracy: 0.9211 - val_loss: 0.2745\n",
      "Epoch 20/20\n",
      "\u001b[1m2737/2737\u001b[0m \u001b[32m━━━━━━━━━━━━━━━━━━━━\u001b[0m\u001b[37m\u001b[0m \u001b[1m10s\u001b[0m 4ms/step - accuracy: 0.9220 - loss: 0.2667 - val_accuracy: 0.9207 - val_loss: 0.2759\n"
     ]
    }
   ],
   "source": [
    "keras.config.disable_traceback_filtering()\n",
    "\n",
    "model_num = 0\n",
    "while os.path.exists(\"models/model_%s.keras\" % f\"{model_num:02}\"):\n",
    "    model_num += 1\n",
    "log_dir = \"logs/fit/model_\" + str(f\"{model_num:02}\")\n",
    "tensorboard_callback = keras.callbacks.TensorBoard(log_dir=log_dir, histogram_freq=1)\n",
    "\n",
    "history=model.fit(X_train, y_train, epochs=EPOCHS, batch_size=BATCH_SIZE, validation_data=(X_test,y_test), callbacks=[tensorboard_callback])\n",
    "\n",
    "model_name = 'model_'+ str(f\"{model_num:02}\")\n",
    "model_path = 'models/' + model_name + '.keras'\n",
    "model.name = model_name\n",
    "model.save(model_path)\n"
   ]
  },
  {
   "cell_type": "code",
   "execution_count": 28,
   "metadata": {},
   "outputs": [
    {
     "name": "stdout",
     "output_type": "stream",
     "text": [
      "INFO:tensorflow:Assets written to: test\\assets\n"
     ]
    },
    {
     "name": "stderr",
     "output_type": "stream",
     "text": [
      "INFO:tensorflow:Assets written to: test\\assets\n"
     ]
    },
    {
     "name": "stdout",
     "output_type": "stream",
     "text": [
      "Saved artifact at 'test'. The following endpoints are available:\n",
      "\n",
      "* Endpoint 'serve'\n",
      "  args_0 (POSITIONAL_ONLY): TensorSpec(shape=(None, 186, 1), dtype=tf.float32, name='inputs_cnn')\n",
      "Output Type:\n",
      "  TensorSpec(shape=(None, 5), dtype=tf.float32, name=None)\n",
      "Captures:\n",
      "  2491961460336: TensorSpec(shape=(), dtype=tf.resource, name=None)\n",
      "  2491961460512: TensorSpec(shape=(), dtype=tf.resource, name=None)\n",
      "  2491961461568: TensorSpec(shape=(), dtype=tf.resource, name=None)\n",
      "  2491961461744: TensorSpec(shape=(), dtype=tf.resource, name=None)\n",
      "  2491961462800: TensorSpec(shape=(), dtype=tf.resource, name=None)\n",
      "  2491961462976: TensorSpec(shape=(), dtype=tf.resource, name=None)\n",
      "  2491961463504: TensorSpec(shape=(), dtype=tf.resource, name=None)\n",
      "  2491961463328: TensorSpec(shape=(), dtype=tf.resource, name=None)\n"
     ]
    }
   ],
   "source": [
    "model.export(\"test\", \"tf_saved_model\")\n",
    "converter = tf.lite.TFLiteConverter.from_saved_model('test')\n",
    "\n",
    "tflite_model = converter.convert()"
   ]
  },
  {
   "cell_type": "code",
   "execution_count": 29,
   "metadata": {},
   "outputs": [
    {
     "name": "stdout",
     "output_type": "stream",
     "text": [
      "INFO:tensorflow:Assets written to: test\\assets\n"
     ]
    },
    {
     "name": "stderr",
     "output_type": "stream",
     "text": [
      "INFO:tensorflow:Assets written to: test\\assets\n"
     ]
    },
    {
     "name": "stdout",
     "output_type": "stream",
     "text": [
      "Saved artifact at 'test'. The following endpoints are available:\n",
      "\n",
      "* Endpoint 'serve'\n",
      "  args_0 (POSITIONAL_ONLY): TensorSpec(shape=(None, 186, 1), dtype=tf.float32, name='inputs_cnn')\n",
      "Output Type:\n",
      "  TensorSpec(shape=(None, 5), dtype=tf.float32, name=None)\n",
      "Captures:\n",
      "  2491961460336: TensorSpec(shape=(), dtype=tf.resource, name=None)\n",
      "  2491961460512: TensorSpec(shape=(), dtype=tf.resource, name=None)\n",
      "  2491961461568: TensorSpec(shape=(), dtype=tf.resource, name=None)\n",
      "  2491961461744: TensorSpec(shape=(), dtype=tf.resource, name=None)\n",
      "  2491961462800: TensorSpec(shape=(), dtype=tf.resource, name=None)\n",
      "  2491961462976: TensorSpec(shape=(), dtype=tf.resource, name=None)\n",
      "  2491961463504: TensorSpec(shape=(), dtype=tf.resource, name=None)\n",
      "  2491961463328: TensorSpec(shape=(), dtype=tf.resource, name=None)\n"
     ]
    }
   ],
   "source": [
    "def representative_data_gen():\n",
    "  for input_value in tf.data.Dataset.from_tensor_slices(X_train).batch(1).take(100):\n",
    "    yield [input_value]\n",
    "\n",
    "model.export(\"test\", \"tf_saved_model\")\n",
    "converter = tf.lite.TFLiteConverter.from_saved_model('test')\n",
    "converter.optimizations = [tf.lite.Optimize.DEFAULT]\n",
    "converter.representative_dataset = representative_data_gen\n",
    "# Ensure that if any ops can't be quantized, the converter throws an error\n",
    "converter.target_spec.supported_ops = [tf.lite.OpsSet.TFLITE_BUILTINS_INT8]\n",
    "# Set the input and output tensors to uint8 (APIs added in r2.3)\n",
    "converter.inference_input_type = tf.uint8\n",
    "converter.inference_output_type = tf.uint8\n",
    "\n",
    "tflite_model_quant = converter.convert()"
   ]
  },
  {
   "cell_type": "code",
   "execution_count": 30,
   "metadata": {},
   "outputs": [
    {
     "name": "stdout",
     "output_type": "stream",
     "text": [
      "input:  <class 'numpy.uint8'>\n",
      "output:  <class 'numpy.uint8'>\n"
     ]
    }
   ],
   "source": [
    "interpreter = tf.lite.Interpreter(model_content=tflite_model_quant)\n",
    "input_type = interpreter.get_input_details()[0]['dtype']\n",
    "print('input: ', input_type)\n",
    "output_type = interpreter.get_output_details()[0]['dtype']\n",
    "print('output: ', output_type)"
   ]
  },
  {
   "cell_type": "code",
   "execution_count": 31,
   "metadata": {},
   "outputs": [
    {
     "data": {
      "text/plain": [
       "7552"
      ]
     },
     "execution_count": 31,
     "metadata": {},
     "output_type": "execute_result"
    }
   ],
   "source": [
    "import pathlib\n",
    "\n",
    "tflite_models_dir = pathlib.Path(\"/tmp/mnist_tflite_models/\")\n",
    "tflite_models_dir.mkdir(exist_ok=True, parents=True)\n",
    "\n",
    "# Save the unquantized/float model:\n",
    "tflite_model_file = tflite_models_dir/\"mnist_model.tflite\"\n",
    "tflite_model_file.write_bytes(tflite_model)\n",
    "# Save the quantized model:\n",
    "tflite_model_quant_file = tflite_models_dir/\"mnist_model_quant.tflite\"\n",
    "tflite_model_quant_file.write_bytes(tflite_model_quant)"
   ]
  },
  {
   "cell_type": "code",
   "execution_count": 32,
   "metadata": {},
   "outputs": [],
   "source": [
    "# Helper function to run inference on a TFLite model\n",
    "def run_tflite_model(tflite_file, X_test_indices):\n",
    "  global test_images\n",
    "\n",
    "  # Initialize the interpreter\n",
    "  interpreter = tf.lite.Interpreter(model_path=str(tflite_file))\n",
    "  interpreter.allocate_tensors()\n",
    "\n",
    "  input_details = interpreter.get_input_details()[0]\n",
    "  output_details = interpreter.get_output_details()[0]\n",
    "\n",
    "  predictions = np.zeros((len(X_test_indices),), dtype=int)\n",
    "  for i, test_image_index in enumerate(X_test_indices):\n",
    "    test_image = X_test[test_image_index]\n",
    "    test_label = y_test[test_image_index]\n",
    "\n",
    "    # Check if the input type is quantized, then rescale input data to uint8\n",
    "    if input_details['dtype'] == np.uint8:\n",
    "      input_scale, input_zero_point = input_details[\"quantization\"]\n",
    "      test_image = test_image / input_scale + input_zero_point\n",
    "\n",
    "    test_image = np.expand_dims(test_image, axis=0).astype(input_details[\"dtype\"])\n",
    "    interpreter.set_tensor(input_details[\"index\"], test_image)\n",
    "    interpreter.invoke()\n",
    "    output = interpreter.get_tensor(output_details[\"index\"])[0]\n",
    "\n",
    "    predictions[i] = output.argmax()\n",
    "    \n",
    "\n",
    "  return predictions"
   ]
  },
  {
   "cell_type": "code",
   "execution_count": 33,
   "metadata": {},
   "outputs": [
    {
     "name": "stdout",
     "output_type": "stream",
     "text": [
      "\u001b[1m685/685\u001b[0m \u001b[32m━━━━━━━━━━━━━━━━━━━━\u001b[0m\u001b[37m\u001b[0m \u001b[1m1s\u001b[0m 2ms/step\n",
      "[0 0 0 ... 0 4 4]\n",
      "        0       1       2       3       4\n",
      "0  0.9218  0.1625  0.1055  0.0000  0.0073\n",
      "1  0.0253  0.7250  0.0054  0.0000  0.0000\n",
      "2  0.0335  0.1000  0.8303  0.3333  0.0154\n",
      "3  0.0078  0.0000  0.0065  0.6667  0.0000\n",
      "4  0.0116  0.0125  0.0522  0.0000  0.9773\n"
     ]
    }
   ],
   "source": [
    "y_prediction = model.predict(X_test)\n",
    "y_prediction = np.argmax (y_prediction, axis = 1)\n",
    "y_test=np.argmax(y_test, axis=1)\n",
    "\n",
    "#Create confusion matrix and normalizes it over predicted (columns)\n",
    "result = confusion_matrix(y_test, y_prediction , normalize='pred')\n",
    "classes = [0,1,2,3,4]\n",
    "result_norm = np.around(result, 4)\n",
    "mat_result = pd.DataFrame(result_norm,\n",
    "                     index = classes, \n",
    "                     columns = classes)\n",
    "print(y_prediction)\n",
    "print(mat_result)"
   ]
  },
  {
   "cell_type": "code",
   "execution_count": 34,
   "metadata": {},
   "outputs": [],
   "source": [
    "# Helper function to evaluate a TFLite model on all images\n",
    "def evaluate_model(tflite_file, model_type):\n",
    "  global test_images\n",
    "  global test_labels\n",
    "\n",
    "  X_test_indices = range(X_test.shape[0])\n",
    "  predictions = run_tflite_model(tflite_file, X_test_indices)\n",
    "  print(predictions)\n",
    "  #y_prediction = np.argmax (predictions)\n",
    "  y_prediction = predictions\n",
    "  #y_test=np.argmax(y_test)\n",
    "\n",
    "  #Create confusion matrix and normalizes it over predicted (columns)\n",
    "  result = confusion_matrix(y_test, y_prediction , normalize='pred')\n",
    "  classes = [0,1,2,3,4]\n",
    "  result_norm = np.around(result, 4)\n",
    "  mat_result = pd.DataFrame(result_norm,\n",
    "                      index = classes, \n",
    "                      columns = classes)\n",
    "  print(mat_result)\n",
    "  figure = plt.figure(figsize=(4, 4))\n",
    "  sns.heatmap(mat_result, annot=True,cmap=plt.cm.Blues)\n",
    "  plt.title(model_name)\n",
    "  plt.ylabel('True label')\n",
    "  plt.xlabel('Predicted label')\n",
    "  plt.tight_layout()\n",
    "  plt.savefig(log_dir + '/' + model_name + '.png', pad_inches=0.1)\n",
    "  plt.show()\n",
    "\n",
    "  #accuracy = (np.sum(y_test== predictions) * 100) / len(X_test)\n",
    "\n",
    "  #print('%s model accuracy is %.4f%% (Number of test samples=%d)' % (\n",
    "  #    model_type, accuracy, len(X_test)))"
   ]
  },
  {
   "cell_type": "code",
   "execution_count": 35,
   "metadata": {},
   "outputs": [
    {
     "name": "stdout",
     "output_type": "stream",
     "text": [
      "[0 0 0 ... 0 4 4]\n",
      "        0       1       2       3       4\n",
      "0  0.9218  0.1625  0.1055  0.0000  0.0073\n",
      "1  0.0253  0.7250  0.0054  0.0000  0.0000\n",
      "2  0.0335  0.1000  0.8303  0.3333  0.0154\n",
      "3  0.0078  0.0000  0.0065  0.6667  0.0000\n",
      "4  0.0116  0.0125  0.0522  0.0000  0.9773\n"
     ]
    },
    {
     "data": {
      "image/png": "[encoded data removed]",
      "text/plain": [
       "<Figure size 400x400 with 2 Axes>"
      ]
     },
     "metadata": {},
     "output_type": "display_data"
    },
    {
     "name": "stdout",
     "output_type": "stream",
     "text": [
      "[0 0 0 ... 0 4 4]\n",
      "        0       1       2    3       4\n",
      "0  0.9198  0.1667  0.0940  0.0  0.0059\n",
      "1  0.0260  0.6833  0.0057  0.0  0.0000\n",
      "2  0.0346  0.1500  0.8414  0.2  0.0133\n",
      "3  0.0078  0.0000  0.0068  0.8  0.0000\n",
      "4  0.0119  0.0000  0.0521  0.0  0.9808\n"
     ]
    },
    {
     "data": {
      "image/png": "[encoded data removed]",
      "text/plain": [
       "<Figure size 400x400 with 2 Axes>"
      ]
     },
     "metadata": {},
     "output_type": "display_data"
    }
   ],
   "source": [
    "evaluate_model(tflite_model_file, model_type=\"Float\")\n",
    "evaluate_model(tflite_model_quant_file, model_type=\"Quantized\")"
   ]
  },
  {
   "cell_type": "code",
   "execution_count": 36,
   "metadata": {},
   "outputs": [
    {
     "name": "stdout",
     "output_type": "stream",
     "text": [
      "0.8242025556910093\n"
     ]
    }
   ],
   "source": [
    "total_pred = np.trace(result) / 5\n",
    "print(total_pred)"
   ]
  },
  {
   "cell_type": "code",
   "execution_count": 37,
   "metadata": {},
   "outputs": [
    {
     "data": {
      "image/png": "[encoded data removed]",
      "text/plain": [
       "<Figure size 400x400 with 2 Axes>"
      ]
     },
     "metadata": {},
     "output_type": "display_data"
    }
   ],
   "source": [
    "figure = plt.figure(figsize=(4, 4))\n",
    "sns.heatmap(mat_result, annot=True,cmap=plt.cm.Blues)\n",
    "plt.title(model_name)\n",
    "plt.ylabel('True label')\n",
    "plt.xlabel('Predicted label')\n",
    "plt.tight_layout()\n",
    "plt.savefig(log_dir + '/' + model_name + '.png', pad_inches=0.1)\n",
    "plt.show()"
   ]
  },
  {
   "cell_type": "code",
   "execution_count": 38,
   "metadata": {},
   "outputs": [
    {
     "name": "stderr",
     "output_type": "stream",
     "text": [
      "UsageError: Line magic function `%tensorboard` not found.\n"
     ]
    }
   ],
   "source": [
    "%tensorboard --logdir logs/fit"
   ]
  }
 ],
 "metadata": {
  "kernelspec": {
   "display_name": "Python 3 (ipykernel)",
   "language": "python",
   "name": "python3"
  },
  "language_info": {
   "codemirror_mode": {
    "name": "ipython",
    "version": 3
   },
   "file_extension": ".py",
   "mimetype": "text/x-python",
   "name": "python",
   "nbconvert_exporter": "python",
   "pygments_lexer": "ipython3",
   "version": "3.11.3"
  }
 },
 "nbformat": 4,
 "nbformat_minor": 2
}
